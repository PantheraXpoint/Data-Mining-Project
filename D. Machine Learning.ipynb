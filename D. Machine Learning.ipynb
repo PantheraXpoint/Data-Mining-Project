{
 "cells": [
  {
   "cell_type": "markdown",
   "metadata": {},
   "source": [
    "# Machine Learning\n",
    "\n"
   ]
  },
  {
   "cell_type": "code",
   "execution_count": 1,
   "metadata": {},
   "outputs": [],
   "source": [
    "# Import required packages\n",
    "\n",
    "import pandas as pd\n",
    "import numpy as np\n",
    "import seaborn as sns\n",
    "import matplotlib.pyplot as plt\n",
    "from scipy import stats\n",
    "from sklearn.linear_model import LinearRegression\n",
    "from sklearn.metrics import mean_squared_error\n",
    "from sklearn.model_selection import train_test_split\n",
    "\n",
    "sns.set()"
   ]
  },
  {
   "cell_type": "code",
   "execution_count": 2,
   "metadata": {},
   "outputs": [
    {
     "data": {
      "text/html": [
       "<div>\n",
       "<style scoped>\n",
       "    .dataframe tbody tr th:only-of-type {\n",
       "        vertical-align: middle;\n",
       "    }\n",
       "\n",
       "    .dataframe tbody tr th {\n",
       "        vertical-align: top;\n",
       "    }\n",
       "\n",
       "    .dataframe thead th {\n",
       "        text-align: right;\n",
       "    }\n",
       "</style>\n",
       "<table border=\"1\" class=\"dataframe\">\n",
       "  <thead>\n",
       "    <tr style=\"text-align: right;\">\n",
       "      <th></th>\n",
       "      <th>InvoiceDate</th>\n",
       "      <th>StockCode</th>\n",
       "      <th>Quantity</th>\n",
       "      <th>TotalPrice</th>\n",
       "      <th>Week</th>\n",
       "      <th>Weekday</th>\n",
       "      <th>Day</th>\n",
       "      <th>UnitPrice</th>\n",
       "    </tr>\n",
       "  </thead>\n",
       "  <tbody>\n",
       "    <tr>\n",
       "      <th>0</th>\n",
       "      <td>2010-12-01</td>\n",
       "      <td>10002</td>\n",
       "      <td>60</td>\n",
       "      <td>51.00</td>\n",
       "      <td>48</td>\n",
       "      <td>2</td>\n",
       "      <td>1</td>\n",
       "      <td>0.85</td>\n",
       "    </tr>\n",
       "    <tr>\n",
       "      <th>1</th>\n",
       "      <td>2010-12-01</td>\n",
       "      <td>10125</td>\n",
       "      <td>2</td>\n",
       "      <td>1.70</td>\n",
       "      <td>48</td>\n",
       "      <td>2</td>\n",
       "      <td>1</td>\n",
       "      <td>0.85</td>\n",
       "    </tr>\n",
       "    <tr>\n",
       "      <th>2</th>\n",
       "      <td>2010-12-01</td>\n",
       "      <td>10133</td>\n",
       "      <td>5</td>\n",
       "      <td>4.25</td>\n",
       "      <td>48</td>\n",
       "      <td>2</td>\n",
       "      <td>1</td>\n",
       "      <td>0.85</td>\n",
       "    </tr>\n",
       "    <tr>\n",
       "      <th>3</th>\n",
       "      <td>2010-12-01</td>\n",
       "      <td>15044B</td>\n",
       "      <td>1</td>\n",
       "      <td>2.95</td>\n",
       "      <td>48</td>\n",
       "      <td>2</td>\n",
       "      <td>1</td>\n",
       "      <td>2.95</td>\n",
       "    </tr>\n",
       "    <tr>\n",
       "      <th>4</th>\n",
       "      <td>2010-12-01</td>\n",
       "      <td>15056BL</td>\n",
       "      <td>20</td>\n",
       "      <td>113.00</td>\n",
       "      <td>48</td>\n",
       "      <td>2</td>\n",
       "      <td>1</td>\n",
       "      <td>5.65</td>\n",
       "    </tr>\n",
       "  </tbody>\n",
       "</table>\n",
       "</div>"
      ],
      "text/plain": [
       "  InvoiceDate StockCode  Quantity  TotalPrice  Week  Weekday  Day  UnitPrice\n",
       "0  2010-12-01     10002        60       51.00    48        2    1       0.85\n",
       "1  2010-12-01     10125         2        1.70    48        2    1       0.85\n",
       "2  2010-12-01     10133         5        4.25    48        2    1       0.85\n",
       "3  2010-12-01    15044B         1        2.95    48        2    1       2.95\n",
       "4  2010-12-01   15056BL        20      113.00    48        2    1       5.65"
      ]
     },
     "execution_count": 2,
     "metadata": {},
     "output_type": "execute_result"
    }
   ],
   "source": [
    "# Read the previous csv file as dataframe\n",
    "df = pd.read_csv('data.csv').drop(['Unnamed: 0'],axis=1)\n",
    "df.head()"
   ]
  },
  {
   "cell_type": "markdown",
   "metadata": {},
   "source": [
    "#### Our final dataset is ready to carry out machine learning operations."
   ]
  },
  {
   "cell_type": "markdown",
   "metadata": {},
   "source": [
    "## Machine Learning Process and Methodology\n",
    "\n",
    "To find the best model for our purpose, we will train our data on different algorithms, compare their performance based on the Root mean square error of the prediction and time taken to fit/predict the model, and select the best. \n",
    "\n",
    "### Algorithms employed:\n",
    "1. Linear Regression\n",
    "2. Regularization Model - Ridge\n",
    "3. Regularization Model - Lasso\n",
    "4. Ensemble Model - Random Forest\n",
    "1. Ensemble Model - Gradient Boost\n",
    "1. Ensemble Model - Ada Boost\n",
    "\n",
    "After training and evaluating our data on the above algorithms, we will also use model stacking.\n",
    "\n",
    "7. Stack - Linear Regression\n",
    "8. Stack - Random Forest\n",
    "9. Stack - Gradient Boost"
   ]
  },
  {
   "cell_type": "markdown",
   "metadata": {},
   "source": [
    "### Train-test split\n",
    "\n",
    "We will hold out the data for last month from Nov-01-2011 to Dec-09-2011 as our test set, and the remaining data will be used to train our model."
   ]
  },
  {
   "cell_type": "code",
   "execution_count": 3,
   "metadata": {},
   "outputs": [],
   "source": [
    "# Split the dataset into train and test dataset\n",
    "\n",
    "df_train = df[df.InvoiceDate<'2011-11-01']\n",
    "df_test = df[df.InvoiceDate>='2011-11-01']"
   ]
  },
  {
   "cell_type": "code",
   "execution_count": 4,
   "metadata": {},
   "outputs": [
    {
     "data": {
      "text/html": [
       "<div>\n",
       "<style scoped>\n",
       "    .dataframe tbody tr th:only-of-type {\n",
       "        vertical-align: middle;\n",
       "    }\n",
       "\n",
       "    .dataframe tbody tr th {\n",
       "        vertical-align: top;\n",
       "    }\n",
       "\n",
       "    .dataframe thead th {\n",
       "        text-align: right;\n",
       "    }\n",
       "</style>\n",
       "<table border=\"1\" class=\"dataframe\">\n",
       "  <thead>\n",
       "    <tr style=\"text-align: right;\">\n",
       "      <th></th>\n",
       "      <th>InvoiceDate</th>\n",
       "      <th>StockCode</th>\n",
       "      <th>Quantity</th>\n",
       "      <th>TotalPrice</th>\n",
       "      <th>Week</th>\n",
       "      <th>Weekday</th>\n",
       "      <th>Day</th>\n",
       "      <th>UnitPrice</th>\n",
       "    </tr>\n",
       "  </thead>\n",
       "  <tbody>\n",
       "    <tr>\n",
       "      <th>0</th>\n",
       "      <td>2010-12-01</td>\n",
       "      <td>10002</td>\n",
       "      <td>60</td>\n",
       "      <td>51.00</td>\n",
       "      <td>48</td>\n",
       "      <td>2</td>\n",
       "      <td>1</td>\n",
       "      <td>0.85</td>\n",
       "    </tr>\n",
       "    <tr>\n",
       "      <th>1</th>\n",
       "      <td>2010-12-01</td>\n",
       "      <td>10125</td>\n",
       "      <td>2</td>\n",
       "      <td>1.70</td>\n",
       "      <td>48</td>\n",
       "      <td>2</td>\n",
       "      <td>1</td>\n",
       "      <td>0.85</td>\n",
       "    </tr>\n",
       "    <tr>\n",
       "      <th>2</th>\n",
       "      <td>2010-12-01</td>\n",
       "      <td>10133</td>\n",
       "      <td>5</td>\n",
       "      <td>4.25</td>\n",
       "      <td>48</td>\n",
       "      <td>2</td>\n",
       "      <td>1</td>\n",
       "      <td>0.85</td>\n",
       "    </tr>\n",
       "    <tr>\n",
       "      <th>3</th>\n",
       "      <td>2010-12-01</td>\n",
       "      <td>15044B</td>\n",
       "      <td>1</td>\n",
       "      <td>2.95</td>\n",
       "      <td>48</td>\n",
       "      <td>2</td>\n",
       "      <td>1</td>\n",
       "      <td>2.95</td>\n",
       "    </tr>\n",
       "    <tr>\n",
       "      <th>4</th>\n",
       "      <td>2010-12-01</td>\n",
       "      <td>15056BL</td>\n",
       "      <td>20</td>\n",
       "      <td>113.00</td>\n",
       "      <td>48</td>\n",
       "      <td>2</td>\n",
       "      <td>1</td>\n",
       "      <td>5.65</td>\n",
       "    </tr>\n",
       "  </tbody>\n",
       "</table>\n",
       "</div>"
      ],
      "text/plain": [
       "  InvoiceDate StockCode  Quantity  TotalPrice  Week  Weekday  Day  UnitPrice\n",
       "0  2010-12-01     10002        60       51.00    48        2    1       0.85\n",
       "1  2010-12-01     10125         2        1.70    48        2    1       0.85\n",
       "2  2010-12-01     10133         5        4.25    48        2    1       0.85\n",
       "3  2010-12-01    15044B         1        2.95    48        2    1       2.95\n",
       "4  2010-12-01   15056BL        20      113.00    48        2    1       5.65"
      ]
     },
     "execution_count": 4,
     "metadata": {},
     "output_type": "execute_result"
    }
   ],
   "source": [
    "df_train.head()"
   ]
  },
  {
   "cell_type": "code",
   "execution_count": 5,
   "metadata": {},
   "outputs": [],
   "source": [
    "# Define the feature and target variables\n",
    "\n",
    "X_train = df_train.drop(labels=['InvoiceDate','StockCode','Quantity','TotalPrice'],axis=1)\n",
    "y_train = df_train.Quantity\n",
    "\n",
    "X_test = df_test.drop(labels=['InvoiceDate','StockCode','Quantity','TotalPrice'],axis=1)\n",
    "y_test = df_test.Quantity"
   ]
  },
  {
   "cell_type": "code",
   "execution_count": 6,
   "metadata": {},
   "outputs": [],
   "source": [
    "# Data Frame to store all the RMSE scores for various algorithms\n",
    "algo_score = pd.DataFrame()\n",
    "algo_score.index.name = 'Modelling Algo'\n",
    "algo_score['Train RMSE'] = None\n",
    "algo_score['Test RMSE'] = None\n",
    "algo_score['Hyperparameters'] = None\n",
    "algo_score['Training+Test Time(sec)'] = None\n",
    "\n",
    "cv_time = []\n",
    "\n",
    "# Dataframes for second level of predictions. Collect the predicted y values for training and test set of data\n",
    "ypred_train = pd.DataFrame(index = X_train.index)\n",
    "ypred_test = pd.DataFrame(index = X_test.index)\n",
    "\n",
    "ypred_train['quantity'], ypred_test['quantity'] = y_train, y_test\n"
   ]
  },
  {
   "cell_type": "markdown",
   "metadata": {},
   "source": [
    "We will define functions to measure the model, apply cross validation, and predict on train and test datasets. We have not included model fitting in the functions as that will happen as part of hyperparameter tuning"
   ]
  },
  {
   "cell_type": "code",
   "execution_count": 7,
   "metadata": {},
   "outputs": [],
   "source": [
    "from sklearn.metrics import make_scorer\n",
    "\n",
    "# Metric used to measure the model (Root Mean Square Error)\n",
    "def rmse(y_actual, y_pred):\n",
    "    rmse = np.sqrt(mean_squared_error(y_actual,y_pred))\n",
    "    return rmse\n",
    "rmse_cv = make_scorer(rmse, greater_is_better=False)"
   ]
  },
  {
   "cell_type": "markdown",
   "metadata": {},
   "source": [
    "plot_true_vs_pred: This is used to plot True and Predicted count values for a particular time interval\n",
    "\n"
   ]
  },
  {
   "cell_type": "code",
   "execution_count": 19,
   "metadata": {},
   "outputs": [],
   "source": [
    "# Plots True vs. Predicted count values\n",
    "def plot_true_vs_pred (y_actual, y_pred):\n",
    "    fig = plt.figure()#figsize=(18, 16))\n",
    "    \n",
    "    pred_val = pd.DataFrame({'actual':y_actual,'predicted':y_pred})\n",
    "    pred_val['error']=abs(pred_val.actual-pred_val.predicted)\n",
    "    sns.swarmplot(pred_val.actual.round(0)[:100],pred_val.error[:100])\n",
    "    \n",
    "    plt.show()"
   ]
  },
  {
   "cell_type": "code",
   "execution_count": 9,
   "metadata": {},
   "outputs": [],
   "source": [
    "# Function to predict on train and test data and return the required metrics\n",
    "def model_fit(model, X_train, y_train, X_test, y_test):\n",
    "    ''' \n",
    "    Input:\n",
    "        model = model to be applied\n",
    "        X_train y_train = Training data\n",
    "        X_test, y_test = Testing data\n",
    "    Output:\n",
    "        rmse for training and test data \n",
    "        predicted y for training and test data\n",
    "    \n",
    "    '''\n",
    "#     model.fit(X_train, y_train)\n",
    "    y_train_predict = model.predict(X_train)\n",
    "    y_test_predict = model.predict(X_test)\n",
    "    \n",
    "    rmse_train = rmse(y_train, y_train_predict)\n",
    "    rmse_test = rmse(y_test, y_test_predict)\n",
    "    \n",
    "    rmse_all = [rmse_train, rmse_test]\n",
    "    y_pred_all = [y_train_predict, y_test_predict]\n",
    "    \n",
    "    return(rmse_all, y_pred_all)"
   ]
  },
  {
   "cell_type": "code",
   "execution_count": 10,
   "metadata": {},
   "outputs": [],
   "source": [
    "from sklearn.model_selection import cross_val_predict\n",
    "def cross_val(model, X_train, y_train, cv=5):\n",
    "#     y_pred = pd.Series(index=y_train.index)\n",
    "    y_pred = cross_val_predict(model,X_train,y_train,cv=5)\n",
    "\n",
    "    rmse_train = rmse(y_train,y_pred)\n",
    "    return(rmse_train, y_pred)\n"
   ]
  },
  {
   "cell_type": "markdown",
   "metadata": {},
   "source": [
    "## Linear Regression"
   ]
  },
  {
   "cell_type": "code",
   "execution_count": 11,
   "metadata": {},
   "outputs": [
    {
     "name": "stdout",
     "output_type": "stream",
     "text": [
      "CPU times: total: 31.2 ms\n",
      "Wall time: 65.9 ms\n",
      "CPU times: total: 172 ms\n",
      "Wall time: 16 ms\n"
     ]
    }
   ],
   "source": [
    "from sklearn.linear_model import LinearRegression\n",
    "\n",
    "reg = LinearRegression()\n",
    "\n",
    "param_summary = ['','']\n",
    "\n",
    "%time reg.fit(X_train, y_train)\n",
    "%time rmse_summary, y_predict_summary = model_fit(reg, X_train, y_train, X_test, y_test)\n",
    "\n",
    "ypred_test['LR'] = y_predict_summary[1]  \n",
    "ypred_train['LR'] = y_predict_summary[0]\n",
    "\n",
    "algo_score.loc['Linear Regression'] = rmse_summary+param_summary\n"
   ]
  },
  {
   "cell_type": "code",
   "execution_count": 86,
   "metadata": {},
   "outputs": [
    {
     "data": {
      "text/html": [
       "<div>\n",
       "<style scoped>\n",
       "    .dataframe tbody tr th:only-of-type {\n",
       "        vertical-align: middle;\n",
       "    }\n",
       "\n",
       "    .dataframe tbody tr th {\n",
       "        vertical-align: top;\n",
       "    }\n",
       "\n",
       "    .dataframe thead th {\n",
       "        text-align: right;\n",
       "    }\n",
       "</style>\n",
       "<table border=\"1\" class=\"dataframe\">\n",
       "  <thead>\n",
       "    <tr style=\"text-align: right;\">\n",
       "      <th></th>\n",
       "      <th>Train RMSE</th>\n",
       "      <th>Test RMSE</th>\n",
       "      <th>Hyperparameters</th>\n",
       "      <th>Training+Test Time(sec)</th>\n",
       "    </tr>\n",
       "    <tr>\n",
       "      <th>Modelling Algo</th>\n",
       "      <th></th>\n",
       "      <th></th>\n",
       "      <th></th>\n",
       "      <th></th>\n",
       "    </tr>\n",
       "  </thead>\n",
       "  <tbody>\n",
       "    <tr>\n",
       "      <th>Linear Regression</th>\n",
       "      <td>25.033909</td>\n",
       "      <td>25.931982</td>\n",
       "      <td></td>\n",
       "      <td>0.017</td>\n",
       "    </tr>\n",
       "    <tr>\n",
       "      <th>Ridge Regression</th>\n",
       "      <td>25.033909</td>\n",
       "      <td>25.931989</td>\n",
       "      <td>{'alpha': 145}</td>\n",
       "      <td>0.007</td>\n",
       "    </tr>\n",
       "    <tr>\n",
       "      <th>Lasso Regression</th>\n",
       "      <td>25.034230</td>\n",
       "      <td>25.933011</td>\n",
       "      <td>{'alpha': 0.22}</td>\n",
       "      <td>0.007</td>\n",
       "    </tr>\n",
       "    <tr>\n",
       "      <th>Random Forest</th>\n",
       "      <td>19.004094</td>\n",
       "      <td>22.758548</td>\n",
       "      <td>{'n_jobs': -1, 'n_estimators': 500, 'min_sampl...</td>\n",
       "      <td>279.05</td>\n",
       "    </tr>\n",
       "    <tr>\n",
       "      <th>Gradient Boost</th>\n",
       "      <td>16.939885</td>\n",
       "      <td>22.973598</td>\n",
       "      <td>{'n_estimators': 500, 'min_samples_split': 2, ...</td>\n",
       "      <td>89.796</td>\n",
       "    </tr>\n",
       "  </tbody>\n",
       "</table>\n",
       "</div>"
      ],
      "text/plain": [
       "                   Train RMSE  Test RMSE  \\\n",
       "Modelling Algo                             \n",
       "Linear Regression   25.033909  25.931982   \n",
       "Ridge Regression    25.033909  25.931989   \n",
       "Lasso Regression    25.034230  25.933011   \n",
       "Random Forest       19.004094  22.758548   \n",
       "Gradient Boost      16.939885  22.973598   \n",
       "\n",
       "                                                     Hyperparameters  \\\n",
       "Modelling Algo                                                         \n",
       "Linear Regression                                                      \n",
       "Ridge Regression                                      {'alpha': 145}   \n",
       "Lasso Regression                                     {'alpha': 0.22}   \n",
       "Random Forest      {'n_jobs': -1, 'n_estimators': 500, 'min_sampl...   \n",
       "Gradient Boost     {'n_estimators': 500, 'min_samples_split': 2, ...   \n",
       "\n",
       "                  Training+Test Time(sec)  \n",
       "Modelling Algo                             \n",
       "Linear Regression                   0.017  \n",
       "Ridge Regression                    0.007  \n",
       "Lasso Regression                    0.007  \n",
       "Random Forest                      279.05  \n",
       "Gradient Boost                     89.796  "
      ]
     },
     "execution_count": 86,
     "metadata": {},
     "output_type": "execute_result"
    }
   ],
   "source": [
    "algo_score.loc['Linear Regression', 'Training+Test Time(sec)'] = 0.017\n",
    "cv_time.append(0.017)\n",
    "algo_score"
   ]
  },
  {
   "cell_type": "markdown",
   "metadata": {},
   "source": [
    "#### Observations\n",
    "\n",
    "Not an overfit model - both train and test RMSE are more or less similar"
   ]
  },
  {
   "cell_type": "code",
   "execution_count": 12,
   "metadata": {},
   "outputs": [],
   "source": [
    "# Features and the Estimated Linear Regression Coefficients\n",
    "df_coeff = pd.DataFrame({'features': X_train.columns, 'Lin_Coeff': reg.coef_})"
   ]
  },
  {
   "cell_type": "code",
   "execution_count": 20,
   "metadata": {},
   "outputs": [
    {
     "name": "stderr",
     "output_type": "stream",
     "text": [
      "C:\\Users\\ADMIN\\anaconda3\\envs\\geo_env\\lib\\site-packages\\seaborn\\_decorators.py:36: FutureWarning: Pass the following variables as keyword args: x, y. From version 0.12, the only valid positional argument will be `data`, and passing other arguments without an explicit keyword will result in an error or misinterpretation.\n",
      "  warnings.warn(\n",
      "C:\\Users\\ADMIN\\anaconda3\\envs\\geo_env\\lib\\site-packages\\seaborn\\categorical.py:1296: UserWarning: 84.2% of the points cannot be placed; you may want to decrease the size of the markers or use stripplot.\n",
      "  warnings.warn(msg, UserWarning)\n",
      "C:\\Users\\ADMIN\\anaconda3\\envs\\geo_env\\lib\\site-packages\\seaborn\\categorical.py:1296: UserWarning: 61.5% of the points cannot be placed; you may want to decrease the size of the markers or use stripplot.\n",
      "  warnings.warn(msg, UserWarning)\n",
      "C:\\Users\\ADMIN\\anaconda3\\envs\\geo_env\\lib\\site-packages\\seaborn\\categorical.py:1296: UserWarning: 50.0% of the points cannot be placed; you may want to decrease the size of the markers or use stripplot.\n",
      "  warnings.warn(msg, UserWarning)\n",
      "C:\\Users\\ADMIN\\anaconda3\\envs\\geo_env\\lib\\site-packages\\seaborn\\categorical.py:1296: UserWarning: 25.0% of the points cannot be placed; you may want to decrease the size of the markers or use stripplot.\n",
      "  warnings.warn(msg, UserWarning)\n",
      "C:\\Users\\ADMIN\\anaconda3\\envs\\geo_env\\lib\\site-packages\\seaborn\\categorical.py:1296: UserWarning: 57.1% of the points cannot be placed; you may want to decrease the size of the markers or use stripplot.\n",
      "  warnings.warn(msg, UserWarning)\n",
      "C:\\Users\\ADMIN\\anaconda3\\envs\\geo_env\\lib\\site-packages\\seaborn\\categorical.py:1296: UserWarning: 80.0% of the points cannot be placed; you may want to decrease the size of the markers or use stripplot.\n",
      "  warnings.warn(msg, UserWarning)\n",
      "C:\\Users\\ADMIN\\anaconda3\\envs\\geo_env\\lib\\site-packages\\seaborn\\categorical.py:1296: UserWarning: 75.0% of the points cannot be placed; you may want to decrease the size of the markers or use stripplot.\n",
      "  warnings.warn(msg, UserWarning)\n",
      "C:\\Users\\ADMIN\\anaconda3\\envs\\geo_env\\lib\\site-packages\\seaborn\\categorical.py:1296: UserWarning: 66.7% of the points cannot be placed; you may want to decrease the size of the markers or use stripplot.\n",
      "  warnings.warn(msg, UserWarning)\n"
     ]
    },
    {
     "data": {
      "image/png": "[encoded data removed]",
      "text/plain": [
       "<Figure size 432x288 with 1 Axes>"
      ]
     },
     "metadata": {
      "needs_background": "light"
     },
     "output_type": "display_data"
    }
   ],
   "source": [
    "# Linear Regression Plot: True vs. Predicted\n",
    "plot_true_vs_pred(y_test,y_predict_summary[1])"
   ]
  },
  {
   "cell_type": "markdown",
   "metadata": {},
   "source": [
    "### Regularization Model - Ridge\n"
   ]
  },
  {
   "cell_type": "code",
   "execution_count": 79,
   "metadata": {},
   "outputs": [
    {
     "name": "stdout",
     "output_type": "stream",
     "text": [
      "CPU times: total: 641 ms\n",
      "Wall time: 640 ms\n",
      "Best alpha for Ridge Regression Model: {'alpha': 100}\n"
     ]
    }
   ],
   "source": [
    "from sklearn.linear_model import Ridge\n",
    "from sklearn.model_selection import GridSearchCV\n",
    "\n",
    "# Hyperparameter Tuning\n",
    "param_grid = {'alpha': [0.1, 0.2, 0.5, 1, 2, 5, 10, 20, 50, 100]}\n",
    "ridge = GridSearchCV(Ridge(random_state=42), param_grid, cv=5, scoring=rmse_cv)\n",
    "%time ridge.fit(X_train, y_train)\n",
    "print('Best alpha for Ridge Regression Model: {}'.format(ridge.best_params_))"
   ]
  },
  {
   "cell_type": "code",
   "execution_count": 80,
   "metadata": {},
   "outputs": [
    {
     "name": "stdout",
     "output_type": "stream",
     "text": [
      "CPU times: total: 500 ms\n",
      "Wall time: 514 ms\n",
      "Best alpha for Ridge Regression Model: {'alpha': 145}\n"
     ]
    }
   ],
   "source": [
    "# Fine tune Hyperparameter for edge cases\n",
    "param_grid = {'alpha': np.arange(75,150,10)}\n",
    "ridge = GridSearchCV(Ridge(random_state=42), param_grid, cv=5, scoring=rmse_cv)\n",
    "%time ridge.fit(X_train, y_train)\n",
    "print('Best alpha for Ridge Regression Model: {}'.format(ridge.best_params_))"
   ]
  },
  {
   "cell_type": "code",
   "execution_count": 81,
   "metadata": {},
   "outputs": [
    {
     "name": "stdout",
     "output_type": "stream",
     "text": [
      "CPU times: total: 15.6 ms\n",
      "Wall time: 7 ms\n"
     ]
    }
   ],
   "source": [
    "param_summary = [ridge.best_params_,'']\n",
    "\n",
    "%time rmse_summary, y_predict_summary = model_fit(ridge, X_train, y_train, X_test, y_test)\n",
    "\n",
    "ypred_test['Ridge'] = y_predict_summary[1]  \n",
    "ypred_train['Ridge'] = y_predict_summary[0]\n",
    "\n",
    "algo_score.loc['Ridge Regression'] = rmse_summary+param_summary"
   ]
  },
  {
   "cell_type": "code",
   "execution_count": 89,
   "metadata": {},
   "outputs": [
    {
     "data": {
      "text/html": [
       "<div>\n",
       "<style scoped>\n",
       "    .dataframe tbody tr th:only-of-type {\n",
       "        vertical-align: middle;\n",
       "    }\n",
       "\n",
       "    .dataframe tbody tr th {\n",
       "        vertical-align: top;\n",
       "    }\n",
       "\n",
       "    .dataframe thead th {\n",
       "        text-align: right;\n",
       "    }\n",
       "</style>\n",
       "<table border=\"1\" class=\"dataframe\">\n",
       "  <thead>\n",
       "    <tr style=\"text-align: right;\">\n",
       "      <th></th>\n",
       "      <th>Train RMSE</th>\n",
       "      <th>Test RMSE</th>\n",
       "      <th>Hyperparameters</th>\n",
       "      <th>Training+Test Time(sec)</th>\n",
       "    </tr>\n",
       "    <tr>\n",
       "      <th>Modelling Algo</th>\n",
       "      <th></th>\n",
       "      <th></th>\n",
       "      <th></th>\n",
       "      <th></th>\n",
       "    </tr>\n",
       "  </thead>\n",
       "  <tbody>\n",
       "    <tr>\n",
       "      <th>Linear Regression</th>\n",
       "      <td>25.033909</td>\n",
       "      <td>25.931982</td>\n",
       "      <td></td>\n",
       "      <td>0.017</td>\n",
       "    </tr>\n",
       "    <tr>\n",
       "      <th>Ridge Regression</th>\n",
       "      <td>25.033909</td>\n",
       "      <td>25.931989</td>\n",
       "      <td>{'alpha': 145}</td>\n",
       "      <td>0.521</td>\n",
       "    </tr>\n",
       "    <tr>\n",
       "      <th>Lasso Regression</th>\n",
       "      <td>25.034230</td>\n",
       "      <td>25.933011</td>\n",
       "      <td>{'alpha': 0.22}</td>\n",
       "      <td>1.897</td>\n",
       "    </tr>\n",
       "    <tr>\n",
       "      <th>Random Forest</th>\n",
       "      <td>19.004094</td>\n",
       "      <td>22.758548</td>\n",
       "      <td>{'n_jobs': -1, 'n_estimators': 500, 'min_sampl...</td>\n",
       "      <td>279.05</td>\n",
       "    </tr>\n",
       "    <tr>\n",
       "      <th>Gradient Boost</th>\n",
       "      <td>16.939885</td>\n",
       "      <td>22.973598</td>\n",
       "      <td>{'n_estimators': 500, 'min_samples_split': 2, ...</td>\n",
       "      <td></td>\n",
       "    </tr>\n",
       "  </tbody>\n",
       "</table>\n",
       "</div>"
      ],
      "text/plain": [
       "                   Train RMSE  Test RMSE  \\\n",
       "Modelling Algo                             \n",
       "Linear Regression   25.033909  25.931982   \n",
       "Ridge Regression    25.033909  25.931989   \n",
       "Lasso Regression    25.034230  25.933011   \n",
       "Random Forest       19.004094  22.758548   \n",
       "Gradient Boost      16.939885  22.973598   \n",
       "\n",
       "                                                     Hyperparameters  \\\n",
       "Modelling Algo                                                         \n",
       "Linear Regression                                                      \n",
       "Ridge Regression                                      {'alpha': 145}   \n",
       "Lasso Regression                                     {'alpha': 0.22}   \n",
       "Random Forest      {'n_jobs': -1, 'n_estimators': 500, 'min_sampl...   \n",
       "Gradient Boost     {'n_estimators': 500, 'min_samples_split': 2, ...   \n",
       "\n",
       "                  Training+Test Time(sec)  \n",
       "Modelling Algo                             \n",
       "Linear Regression                   0.017  \n",
       "Ridge Regression                    0.521  \n",
       "Lasso Regression                    1.897  \n",
       "Random Forest                      279.05  \n",
       "Gradient Boost                             "
      ]
     },
     "execution_count": 89,
     "metadata": {},
     "output_type": "execute_result"
    }
   ],
   "source": [
    "algo_score.loc['Ridge Regression', 'Training+Test Time(sec)'] = 0.521\n",
    "cv_time.append(0.521)\n",
    "algo_score"
   ]
  },
  {
   "cell_type": "markdown",
   "metadata": {},
   "source": [
    "#### Observations\n",
    "\n",
    "Ridge gives almost similar performance as Linear Regression. It is not an overfit model"
   ]
  },
  {
   "cell_type": "code",
   "execution_count": 19,
   "metadata": {},
   "outputs": [],
   "source": [
    "# Features and the Estimated Ridge Regression Coefficients\n",
    "df_coeff['Ridge_Coeff'] = ridge.best_estimator_.coef_\n"
   ]
  },
  {
   "cell_type": "code",
   "execution_count": 20,
   "metadata": {},
   "outputs": [],
   "source": [
    "# plot_true_vs_pred(y_test,y_predict_summary[1])\n"
   ]
  },
  {
   "cell_type": "markdown",
   "metadata": {},
   "source": [
    "### Regularization Model - Lasso"
   ]
  },
  {
   "cell_type": "code",
   "execution_count": 75,
   "metadata": {},
   "outputs": [
    {
     "name": "stdout",
     "output_type": "stream",
     "text": [
      "CPU times: total: 4.61 s\n",
      "Wall time: 775 ms\n",
      "Best alpha for Lasso Regression Model: {'alpha': 0.2}\n"
     ]
    }
   ],
   "source": [
    "from sklearn.linear_model import Lasso\n",
    "from sklearn.model_selection import GridSearchCV\n",
    "\n",
    "# Hyperparameter Tuning\n",
    "param_grid = {'alpha': [0.1, 0.2, 0.5, 1, 2, 5, 10, 20, 50, 100]}\n",
    "lasso = GridSearchCV(Lasso(random_state=42), param_grid, cv=5, scoring=rmse_cv)\n",
    "%time lasso.fit(X_train, y_train)\n",
    "print('Best alpha for Lasso Regression Model: {}'.format(lasso.best_params_))"
   ]
  },
  {
   "cell_type": "code",
   "execution_count": 76,
   "metadata": {},
   "outputs": [
    {
     "name": "stdout",
     "output_type": "stream",
     "text": [
      "CPU times: total: 11.3 s\n",
      "Wall time: 1.89 s\n",
      "Best alpha for Lasso Regression Model: {'alpha': 0.22}\n"
     ]
    }
   ],
   "source": [
    "# Fine tune Hyperparameter for edge case\n",
    "\n",
    "param_grid = {'alpha': np.arange(.01,.25,.01)}\n",
    "lasso = GridSearchCV(Lasso(random_state=42), param_grid, cv=5, scoring=rmse_cv)\n",
    "%time lasso.fit(X_train, y_train)\n",
    "print('Best alpha for Lasso Regression Model: {}'.format(lasso.best_params_))"
   ]
  },
  {
   "cell_type": "code",
   "execution_count": 77,
   "metadata": {},
   "outputs": [
    {
     "name": "stdout",
     "output_type": "stream",
     "text": [
      "CPU times: total: 15.6 ms\n",
      "Wall time: 7 ms\n"
     ]
    }
   ],
   "source": [
    "param_summary = [lasso.best_params_,'']\n",
    "\n",
    "%time rmse_summary, y_predict_summary = model_fit(lasso, X_train, y_train, X_test, y_test)\n",
    "ypred_test['Lasso'] = y_predict_summary[1]\n",
    "ypred_train['Lasso'] = y_predict_summary[0]\n",
    "\n",
    "algo_score.loc['Lasso Regression'] = rmse_summary+param_summary"
   ]
  },
  {
   "cell_type": "code",
   "execution_count": 88,
   "metadata": {},
   "outputs": [
    {
     "data": {
      "text/html": [
       "<div>\n",
       "<style scoped>\n",
       "    .dataframe tbody tr th:only-of-type {\n",
       "        vertical-align: middle;\n",
       "    }\n",
       "\n",
       "    .dataframe tbody tr th {\n",
       "        vertical-align: top;\n",
       "    }\n",
       "\n",
       "    .dataframe thead th {\n",
       "        text-align: right;\n",
       "    }\n",
       "</style>\n",
       "<table border=\"1\" class=\"dataframe\">\n",
       "  <thead>\n",
       "    <tr style=\"text-align: right;\">\n",
       "      <th></th>\n",
       "      <th>Train RMSE</th>\n",
       "      <th>Test RMSE</th>\n",
       "      <th>Hyperparameters</th>\n",
       "      <th>Training+Test Time(sec)</th>\n",
       "    </tr>\n",
       "    <tr>\n",
       "      <th>Modelling Algo</th>\n",
       "      <th></th>\n",
       "      <th></th>\n",
       "      <th></th>\n",
       "      <th></th>\n",
       "    </tr>\n",
       "  </thead>\n",
       "  <tbody>\n",
       "    <tr>\n",
       "      <th>Linear Regression</th>\n",
       "      <td>25.033909</td>\n",
       "      <td>25.931982</td>\n",
       "      <td></td>\n",
       "      <td>0.017</td>\n",
       "    </tr>\n",
       "    <tr>\n",
       "      <th>Ridge Regression</th>\n",
       "      <td>25.033909</td>\n",
       "      <td>25.931989</td>\n",
       "      <td>{'alpha': 145}</td>\n",
       "      <td>0.007</td>\n",
       "    </tr>\n",
       "    <tr>\n",
       "      <th>Lasso Regression</th>\n",
       "      <td>25.034230</td>\n",
       "      <td>25.933011</td>\n",
       "      <td>{'alpha': 0.22}</td>\n",
       "      <td>1.897</td>\n",
       "    </tr>\n",
       "    <tr>\n",
       "      <th>Random Forest</th>\n",
       "      <td>19.004094</td>\n",
       "      <td>22.758548</td>\n",
       "      <td>{'n_jobs': -1, 'n_estimators': 500, 'min_sampl...</td>\n",
       "      <td>279.05</td>\n",
       "    </tr>\n",
       "    <tr>\n",
       "      <th>Gradient Boost</th>\n",
       "      <td>16.939885</td>\n",
       "      <td>22.973598</td>\n",
       "      <td>{'n_estimators': 500, 'min_samples_split': 2, ...</td>\n",
       "      <td></td>\n",
       "    </tr>\n",
       "  </tbody>\n",
       "</table>\n",
       "</div>"
      ],
      "text/plain": [
       "                   Train RMSE  Test RMSE  \\\n",
       "Modelling Algo                             \n",
       "Linear Regression   25.033909  25.931982   \n",
       "Ridge Regression    25.033909  25.931989   \n",
       "Lasso Regression    25.034230  25.933011   \n",
       "Random Forest       19.004094  22.758548   \n",
       "Gradient Boost      16.939885  22.973598   \n",
       "\n",
       "                                                     Hyperparameters  \\\n",
       "Modelling Algo                                                         \n",
       "Linear Regression                                                      \n",
       "Ridge Regression                                      {'alpha': 145}   \n",
       "Lasso Regression                                     {'alpha': 0.22}   \n",
       "Random Forest      {'n_jobs': -1, 'n_estimators': 500, 'min_sampl...   \n",
       "Gradient Boost     {'n_estimators': 500, 'min_samples_split': 2, ...   \n",
       "\n",
       "                  Training+Test Time(sec)  \n",
       "Modelling Algo                             \n",
       "Linear Regression                   0.017  \n",
       "Ridge Regression                    0.007  \n",
       "Lasso Regression                    1.897  \n",
       "Random Forest                      279.05  \n",
       "Gradient Boost                             "
      ]
     },
     "execution_count": 88,
     "metadata": {},
     "output_type": "execute_result"
    }
   ],
   "source": [
    "algo_score.loc['Lasso Regression', 'Training+Test Time(sec)'] = 1.897\n",
    "cv_time.append(1.897)\n",
    "algo_score"
   ]
  },
  {
   "cell_type": "markdown",
   "metadata": {},
   "source": [
    "#### Observations\n",
    "\n",
    "Lasso regression also shows almost similar performance as Linear and Ridge regression"
   ]
  },
  {
   "cell_type": "code",
   "execution_count": 25,
   "metadata": {},
   "outputs": [],
   "source": [
    "# Features and the Estimated Lasso Regression Coefficients\n",
    "df_coeff['Lasso_Coeff'] = lasso.best_estimator_.coef_\n"
   ]
  },
  {
   "cell_type": "code",
   "execution_count": 26,
   "metadata": {},
   "outputs": [],
   "source": [
    "# plot_true_vs_pred(y_test,y_predict_summary[1])\n"
   ]
  },
  {
   "cell_type": "markdown",
   "metadata": {},
   "source": [
    "### Plotting the coefficients obtained from Linear, Ridge and Lasso regression"
   ]
  },
  {
   "cell_type": "code",
   "execution_count": 27,
   "metadata": {},
   "outputs": [
    {
     "data": {
      "text/plain": [
       "<matplotlib.legend.Legend at 0x1e0137e71c0>"
      ]
     },
     "execution_count": 27,
     "metadata": {},
     "output_type": "execute_result"
    },
    {
     "data": {
      "image/png": "[encoded data removed]",
      "text/plain": [
       "<Figure size 720x360 with 1 Axes>"
      ]
     },
     "metadata": {
      "needs_background": "light"
     },
     "output_type": "display_data"
    }
   ],
   "source": [
    "fig = plt.figure(figsize=(10, 5))\n",
    "\n",
    "axes = fig.add_subplot(1, 1, 1)\n",
    "axes.plot(df_coeff.Lin_Coeff, label='Linear Regression', marker='.', markersize=15)\n",
    "axes.plot(df_coeff.Ridge_Coeff, label='Ridge Regression, alpha={}'.format(ridge.best_params_['alpha']), alpha=.5,marker='.', markersize=15)\n",
    "axes.plot(df_coeff.Lasso_Coeff, label='Lasso Regression, alpha={}'.format(lasso.best_params_['alpha']), marker='.', markersize=15)\n",
    "\n",
    "plt.xticks(range(len(df_coeff.Lin_Coeff)), df_coeff.features, rotation=90)\n",
    "axes.set(ylabel='Estimated Regression Coefficients', title='Coefficients for different models')\n",
    "axes.set(xlim=[-1, len(df_coeff.Lin_Coeff)])\n",
    "axes.legend()\n"
   ]
  },
  {
   "cell_type": "markdown",
   "metadata": {},
   "source": [
    "#### Observations\n",
    "\n",
    "As seen above, Weekday and UnitPrice are most important features"
   ]
  },
  {
   "cell_type": "markdown",
   "metadata": {},
   "source": [
    "### Ensemble Model - Random Forest\n"
   ]
  },
  {
   "cell_type": "code",
   "execution_count": 28,
   "metadata": {},
   "outputs": [],
   "source": [
    "# Random Forest Regression Hyperparameter tuning using Grid Search to obtain the best parameters. \n",
    "\n",
    "from sklearn.ensemble import RandomForestRegressor\n",
    "from sklearn.model_selection import GridSearchCV\n",
    "from sklearn.model_selection import RandomizedSearchCV"
   ]
  },
  {
   "cell_type": "code",
   "execution_count": 54,
   "metadata": {
    "scrolled": true
   },
   "outputs": [
    {
     "name": "stderr",
     "output_type": "stream",
     "text": [
      "C:\\Users\\ADMIN\\anaconda3\\envs\\geo_env\\lib\\site-packages\\sklearn\\model_selection\\_search.py:292: UserWarning: The total space of parameters 9 is smaller than n_iter=50. Running 9 iterations. For exhaustive searches, use GridSearchCV.\n",
      "  warnings.warn(\n"
     ]
    },
    {
     "name": "stdout",
     "output_type": "stream",
     "text": [
      "Fitting 5 folds for each of 9 candidates, totalling 45 fits\n",
      "[CV] END max_features=auto, min_samples_leaf=1, n_estimators=50, n_jobs=-1; total time=   3.0s\n",
      "[CV] END max_features=auto, min_samples_leaf=1, n_estimators=50, n_jobs=-1; total time=   1.0s\n",
      "[CV] END max_features=auto, min_samples_leaf=1, n_estimators=50, n_jobs=-1; total time=   1.0s\n",
      "[CV] END max_features=auto, min_samples_leaf=1, n_estimators=50, n_jobs=-1; total time=   1.0s\n",
      "[CV] END max_features=auto, min_samples_leaf=1, n_estimators=50, n_jobs=-1; total time=   1.0s\n",
      "[CV] END max_features=auto, min_samples_leaf=1, n_estimators=500, n_jobs=-1; total time=   9.0s\n",
      "[CV] END max_features=auto, min_samples_leaf=1, n_estimators=500, n_jobs=-1; total time=   9.3s\n",
      "[CV] END max_features=auto, min_samples_leaf=1, n_estimators=500, n_jobs=-1; total time=   9.3s\n",
      "[CV] END max_features=auto, min_samples_leaf=1, n_estimators=500, n_jobs=-1; total time=   9.3s\n",
      "[CV] END max_features=auto, min_samples_leaf=1, n_estimators=500, n_jobs=-1; total time=   9.6s\n",
      "[CV] END max_features=auto, min_samples_leaf=1, n_estimators=1000, n_jobs=-1; total time=  20.4s\n",
      "[CV] END max_features=auto, min_samples_leaf=1, n_estimators=1000, n_jobs=-1; total time=  18.7s\n",
      "[CV] END max_features=auto, min_samples_leaf=1, n_estimators=1000, n_jobs=-1; total time=  20.0s\n",
      "[CV] END max_features=auto, min_samples_leaf=1, n_estimators=1000, n_jobs=-1; total time=  19.1s\n",
      "[CV] END max_features=auto, min_samples_leaf=1, n_estimators=1000, n_jobs=-1; total time=  18.5s\n",
      "[CV] END max_features=auto, min_samples_leaf=10, n_estimators=50, n_jobs=-1; total time=   1.0s\n",
      "[CV] END max_features=auto, min_samples_leaf=10, n_estimators=50, n_jobs=-1; total time=   0.9s\n",
      "[CV] END max_features=auto, min_samples_leaf=10, n_estimators=50, n_jobs=-1; total time=   0.9s\n",
      "[CV] END max_features=auto, min_samples_leaf=10, n_estimators=50, n_jobs=-1; total time=   0.9s\n",
      "[CV] END max_features=auto, min_samples_leaf=10, n_estimators=50, n_jobs=-1; total time=   0.9s\n",
      "[CV] END max_features=auto, min_samples_leaf=10, n_estimators=500, n_jobs=-1; total time=   8.3s\n",
      "[CV] END max_features=auto, min_samples_leaf=10, n_estimators=500, n_jobs=-1; total time=   8.4s\n",
      "[CV] END max_features=auto, min_samples_leaf=10, n_estimators=500, n_jobs=-1; total time=   8.6s\n",
      "[CV] END max_features=auto, min_samples_leaf=10, n_estimators=500, n_jobs=-1; total time=   8.5s\n",
      "[CV] END max_features=auto, min_samples_leaf=10, n_estimators=500, n_jobs=-1; total time=   8.5s\n",
      "[CV] END max_features=auto, min_samples_leaf=10, n_estimators=1000, n_jobs=-1; total time=  16.9s\n",
      "[CV] END max_features=auto, min_samples_leaf=10, n_estimators=1000, n_jobs=-1; total time=  17.0s\n",
      "[CV] END max_features=auto, min_samples_leaf=10, n_estimators=1000, n_jobs=-1; total time=  17.6s\n",
      "[CV] END max_features=auto, min_samples_leaf=10, n_estimators=1000, n_jobs=-1; total time=  17.0s\n",
      "[CV] END max_features=auto, min_samples_leaf=10, n_estimators=1000, n_jobs=-1; total time=  17.4s\n",
      "[CV] END max_features=auto, min_samples_leaf=50, n_estimators=50, n_jobs=-1; total time=   0.8s\n",
      "[CV] END max_features=auto, min_samples_leaf=50, n_estimators=50, n_jobs=-1; total time=   0.8s\n",
      "[CV] END max_features=auto, min_samples_leaf=50, n_estimators=50, n_jobs=-1; total time=   0.8s\n",
      "[CV] END max_features=auto, min_samples_leaf=50, n_estimators=50, n_jobs=-1; total time=   0.8s\n",
      "[CV] END max_features=auto, min_samples_leaf=50, n_estimators=50, n_jobs=-1; total time=   0.8s\n",
      "[CV] END max_features=auto, min_samples_leaf=50, n_estimators=500, n_jobs=-1; total time=   7.3s\n",
      "[CV] END max_features=auto, min_samples_leaf=50, n_estimators=500, n_jobs=-1; total time=   7.3s\n",
      "[CV] END max_features=auto, min_samples_leaf=50, n_estimators=500, n_jobs=-1; total time=   7.3s\n",
      "[CV] END max_features=auto, min_samples_leaf=50, n_estimators=500, n_jobs=-1; total time=   7.2s\n",
      "[CV] END max_features=auto, min_samples_leaf=50, n_estimators=500, n_jobs=-1; total time=   7.2s\n",
      "[CV] END max_features=auto, min_samples_leaf=50, n_estimators=1000, n_jobs=-1; total time=  14.3s\n",
      "[CV] END max_features=auto, min_samples_leaf=50, n_estimators=1000, n_jobs=-1; total time=  14.6s\n",
      "[CV] END max_features=auto, min_samples_leaf=50, n_estimators=1000, n_jobs=-1; total time=  14.4s\n",
      "[CV] END max_features=auto, min_samples_leaf=50, n_estimators=1000, n_jobs=-1; total time=  14.2s\n",
      "[CV] END max_features=auto, min_samples_leaf=50, n_estimators=1000, n_jobs=-1; total time=  14.4s\n",
      "CPU times: total: 4min 31s\n",
      "Wall time: 6min 50s\n"
     ]
    },
    {
     "data": {
      "text/plain": [
       "RandomizedSearchCV(cv=5, estimator=RandomForestRegressor(random_state=42),\n",
       "                   n_iter=50,\n",
       "                   param_distributions={'max_features': ['auto'],\n",
       "                                        'min_samples_leaf': [1, 10, 50],\n",
       "                                        'n_estimators': [50, 500, 1000],\n",
       "                                        'n_jobs': [-1]},\n",
       "                   scoring=make_scorer(rmse, greater_is_better=False),\n",
       "                   verbose=2)"
      ]
     },
     "execution_count": 54,
     "metadata": {},
     "output_type": "execute_result"
    }
   ],
   "source": [
    "# The code for hyperparameter tuning is commented out as it takes a long time to run \n",
    "\n",
    "# Tuning the hyperparameters\n",
    "\n",
    "param_distributions = {'n_estimators': [50,500,1000], 'max_features':['auto'], 'min_samples_leaf':[1,10,50],'n_jobs':[-1]}\n",
    "rf_main = RandomizedSearchCV(RandomForestRegressor(random_state=42), param_distributions, verbose=2, n_iter = 50,cv=5, \n",
    "                             scoring=rmse_cv)\n",
    "# rf_main = GridSearchCV(RandomForestRegressor(random_state=42), param_distributions, verbose=2, n_iter = 50,cv=5, \n",
    "#                              scoring=rmse_cv)\n",
    "%time rf_main.fit(X_train, y_train)\n"
   ]
  },
  {
   "cell_type": "code",
   "execution_count": 30,
   "metadata": {},
   "outputs": [
    {
     "name": "stdout",
     "output_type": "stream",
     "text": [
      "Best parameters for Random Forest Regression Model: {'n_jobs': -1, 'n_estimators': 500, 'min_samples_leaf': 50, 'max_features': 'auto'}\n"
     ]
    }
   ],
   "source": [
    "print('Best parameters for Random Forest Regression Model: {}'.format(rf_main.best_params_))"
   ]
  },
  {
   "cell_type": "markdown",
   "metadata": {},
   "source": [
    "Best parameters for Random Forest Regression Model: {'n_jobs': -1, 'n_estimators': 500, 'min_samples_leaf': 50, 'max_features': 'auto'}"
   ]
  },
  {
   "cell_type": "code",
   "execution_count": 94,
   "metadata": {},
   "outputs": [
    {
     "name": "stdout",
     "output_type": "stream",
     "text": [
      "CPU times: total: 7.72 s\n",
      "Wall time: 735 ms\n"
     ]
    }
   ],
   "source": [
    "param_summary = [rf_main.best_params_,'']\n",
    "\n",
    "%time rmse_summary, y_predict_summary = model_fit(rf_main, X_train, y_train, X_test, y_test)\n",
    "ypred_test['RF'] = y_predict_summary[1]\n",
    "ypred_train['RF'] = y_predict_summary[0]\n",
    "\n",
    "algo_score.loc['Random Forest'] = rmse_summary+param_summary\n"
   ]
  },
  {
   "cell_type": "code",
   "execution_count": 95,
   "metadata": {},
   "outputs": [
    {
     "data": {
      "text/html": [
       "<div>\n",
       "<style scoped>\n",
       "    .dataframe tbody tr th:only-of-type {\n",
       "        vertical-align: middle;\n",
       "    }\n",
       "\n",
       "    .dataframe tbody tr th {\n",
       "        vertical-align: top;\n",
       "    }\n",
       "\n",
       "    .dataframe thead th {\n",
       "        text-align: right;\n",
       "    }\n",
       "</style>\n",
       "<table border=\"1\" class=\"dataframe\">\n",
       "  <thead>\n",
       "    <tr style=\"text-align: right;\">\n",
       "      <th></th>\n",
       "      <th>Train RMSE</th>\n",
       "      <th>Test RMSE</th>\n",
       "      <th>Hyperparameters</th>\n",
       "      <th>Training+Test Time(sec)</th>\n",
       "    </tr>\n",
       "    <tr>\n",
       "      <th>Modelling Algo</th>\n",
       "      <th></th>\n",
       "      <th></th>\n",
       "      <th></th>\n",
       "      <th></th>\n",
       "    </tr>\n",
       "  </thead>\n",
       "  <tbody>\n",
       "    <tr>\n",
       "      <th>Linear Regression</th>\n",
       "      <td>25.033909</td>\n",
       "      <td>25.931982</td>\n",
       "      <td></td>\n",
       "      <td>0.017</td>\n",
       "    </tr>\n",
       "    <tr>\n",
       "      <th>Ridge Regression</th>\n",
       "      <td>25.033909</td>\n",
       "      <td>25.931989</td>\n",
       "      <td>{'alpha': 145}</td>\n",
       "      <td>0.521</td>\n",
       "    </tr>\n",
       "    <tr>\n",
       "      <th>Lasso Regression</th>\n",
       "      <td>25.034230</td>\n",
       "      <td>25.933011</td>\n",
       "      <td>{'alpha': 0.22}</td>\n",
       "      <td>1.897</td>\n",
       "    </tr>\n",
       "    <tr>\n",
       "      <th>Random Forest</th>\n",
       "      <td>19.004094</td>\n",
       "      <td>22.758548</td>\n",
       "      <td>{'n_jobs': -1, 'n_estimators': 500, 'min_sampl...</td>\n",
       "      <td>410.735</td>\n",
       "    </tr>\n",
       "    <tr>\n",
       "      <th>Gradient Boost</th>\n",
       "      <td>16.939885</td>\n",
       "      <td>22.973598</td>\n",
       "      <td>{'n_estimators': 500, 'min_samples_split': 2, ...</td>\n",
       "      <td></td>\n",
       "    </tr>\n",
       "  </tbody>\n",
       "</table>\n",
       "</div>"
      ],
      "text/plain": [
       "                   Train RMSE  Test RMSE  \\\n",
       "Modelling Algo                             \n",
       "Linear Regression   25.033909  25.931982   \n",
       "Ridge Regression    25.033909  25.931989   \n",
       "Lasso Regression    25.034230  25.933011   \n",
       "Random Forest       19.004094  22.758548   \n",
       "Gradient Boost      16.939885  22.973598   \n",
       "\n",
       "                                                     Hyperparameters  \\\n",
       "Modelling Algo                                                         \n",
       "Linear Regression                                                      \n",
       "Ridge Regression                                      {'alpha': 145}   \n",
       "Lasso Regression                                     {'alpha': 0.22}   \n",
       "Random Forest      {'n_jobs': -1, 'n_estimators': 500, 'min_sampl...   \n",
       "Gradient Boost     {'n_estimators': 500, 'min_samples_split': 2, ...   \n",
       "\n",
       "                  Training+Test Time(sec)  \n",
       "Modelling Algo                             \n",
       "Linear Regression                   0.017  \n",
       "Ridge Regression                    0.521  \n",
       "Lasso Regression                    1.897  \n",
       "Random Forest                     410.735  \n",
       "Gradient Boost                             "
      ]
     },
     "execution_count": 95,
     "metadata": {},
     "output_type": "execute_result"
    }
   ],
   "source": [
    "algo_score.loc['Random Forest', 'Training+Test Time(sec)'] = 410.735\n",
    "cv_time.append(410.735)\n",
    "algo_score"
   ]
  },
  {
   "cell_type": "markdown",
   "metadata": {},
   "source": [
    "### Visualize the mean score against different values for n estimators\n",
    "\n",
    "Parts of code have been commenting out as they take long time to execute"
   ]
  },
  {
   "cell_type": "code",
   "execution_count": 33,
   "metadata": {},
   "outputs": [
    {
     "data": {
      "text/html": [
       "<div>\n",
       "<style scoped>\n",
       "    .dataframe tbody tr th:only-of-type {\n",
       "        vertical-align: middle;\n",
       "    }\n",
       "\n",
       "    .dataframe tbody tr th {\n",
       "        vertical-align: top;\n",
       "    }\n",
       "\n",
       "    .dataframe thead th {\n",
       "        text-align: right;\n",
       "    }\n",
       "</style>\n",
       "<table border=\"1\" class=\"dataframe\">\n",
       "  <thead>\n",
       "    <tr style=\"text-align: right;\">\n",
       "      <th></th>\n",
       "      <th>mean_fit_time</th>\n",
       "      <th>std_fit_time</th>\n",
       "      <th>mean_score_time</th>\n",
       "      <th>std_score_time</th>\n",
       "      <th>param_n_jobs</th>\n",
       "      <th>param_n_estimators</th>\n",
       "      <th>param_min_samples_leaf</th>\n",
       "      <th>param_max_features</th>\n",
       "      <th>params</th>\n",
       "      <th>split0_test_score</th>\n",
       "      <th>split1_test_score</th>\n",
       "      <th>split2_test_score</th>\n",
       "      <th>split3_test_score</th>\n",
       "      <th>split4_test_score</th>\n",
       "      <th>mean_test_score</th>\n",
       "      <th>std_test_score</th>\n",
       "      <th>rank_test_score</th>\n",
       "    </tr>\n",
       "  </thead>\n",
       "  <tbody>\n",
       "    <tr>\n",
       "      <th>0</th>\n",
       "      <td>1.556514</td>\n",
       "      <td>0.792858</td>\n",
       "      <td>0.031939</td>\n",
       "      <td>0.003006</td>\n",
       "      <td>-1</td>\n",
       "      <td>50</td>\n",
       "      <td>1</td>\n",
       "      <td>auto</td>\n",
       "      <td>{'n_jobs': -1, 'n_estimators': 50, 'min_sample...</td>\n",
       "      <td>-19.838989</td>\n",
       "      <td>-18.969858</td>\n",
       "      <td>-19.288195</td>\n",
       "      <td>-20.173129</td>\n",
       "      <td>-23.203960</td>\n",
       "      <td>-20.294826</td>\n",
       "      <td>1.513572</td>\n",
       "      <td>9</td>\n",
       "    </tr>\n",
       "    <tr>\n",
       "      <th>1</th>\n",
       "      <td>9.417273</td>\n",
       "      <td>0.096907</td>\n",
       "      <td>0.179851</td>\n",
       "      <td>0.010863</td>\n",
       "      <td>-1</td>\n",
       "      <td>500</td>\n",
       "      <td>1</td>\n",
       "      <td>auto</td>\n",
       "      <td>{'n_jobs': -1, 'n_estimators': 500, 'min_sampl...</td>\n",
       "      <td>-19.790652</td>\n",
       "      <td>-18.892282</td>\n",
       "      <td>-19.217592</td>\n",
       "      <td>-20.126185</td>\n",
       "      <td>-23.026175</td>\n",
       "      <td>-20.210577</td>\n",
       "      <td>1.472071</td>\n",
       "      <td>7</td>\n",
       "    </tr>\n",
       "    <tr>\n",
       "      <th>2</th>\n",
       "      <td>22.622318</td>\n",
       "      <td>3.071672</td>\n",
       "      <td>0.452252</td>\n",
       "      <td>0.095499</td>\n",
       "      <td>-1</td>\n",
       "      <td>1000</td>\n",
       "      <td>1</td>\n",
       "      <td>auto</td>\n",
       "      <td>{'n_jobs': -1, 'n_estimators': 1000, 'min_samp...</td>\n",
       "      <td>-19.799622</td>\n",
       "      <td>-18.896115</td>\n",
       "      <td>-19.218036</td>\n",
       "      <td>-20.123751</td>\n",
       "      <td>-23.018185</td>\n",
       "      <td>-20.211142</td>\n",
       "      <td>1.467789</td>\n",
       "      <td>8</td>\n",
       "    </tr>\n",
       "    <tr>\n",
       "      <th>3</th>\n",
       "      <td>1.471734</td>\n",
       "      <td>0.049848</td>\n",
       "      <td>0.033798</td>\n",
       "      <td>0.009769</td>\n",
       "      <td>-1</td>\n",
       "      <td>50</td>\n",
       "      <td>10</td>\n",
       "      <td>auto</td>\n",
       "      <td>{'n_jobs': -1, 'n_estimators': 50, 'min_sample...</td>\n",
       "      <td>-19.542392</td>\n",
       "      <td>-18.559206</td>\n",
       "      <td>-19.327507</td>\n",
       "      <td>-19.938486</td>\n",
       "      <td>-22.908240</td>\n",
       "      <td>-20.055166</td>\n",
       "      <td>1.495591</td>\n",
       "      <td>6</td>\n",
       "    </tr>\n",
       "    <tr>\n",
       "      <th>4</th>\n",
       "      <td>12.119669</td>\n",
       "      <td>0.517926</td>\n",
       "      <td>0.217552</td>\n",
       "      <td>0.033584</td>\n",
       "      <td>-1</td>\n",
       "      <td>500</td>\n",
       "      <td>10</td>\n",
       "      <td>auto</td>\n",
       "      <td>{'n_jobs': -1, 'n_estimators': 500, 'min_sampl...</td>\n",
       "      <td>-19.531595</td>\n",
       "      <td>-18.537497</td>\n",
       "      <td>-19.285868</td>\n",
       "      <td>-19.917434</td>\n",
       "      <td>-22.862991</td>\n",
       "      <td>-20.027077</td>\n",
       "      <td>1.487829</td>\n",
       "      <td>3</td>\n",
       "    </tr>\n",
       "    <tr>\n",
       "      <th>5</th>\n",
       "      <td>22.076030</td>\n",
       "      <td>3.422012</td>\n",
       "      <td>0.378916</td>\n",
       "      <td>0.024613</td>\n",
       "      <td>-1</td>\n",
       "      <td>1000</td>\n",
       "      <td>10</td>\n",
       "      <td>auto</td>\n",
       "      <td>{'n_jobs': -1, 'n_estimators': 1000, 'min_samp...</td>\n",
       "      <td>-19.529503</td>\n",
       "      <td>-18.533582</td>\n",
       "      <td>-19.294356</td>\n",
       "      <td>-19.915055</td>\n",
       "      <td>-22.871068</td>\n",
       "      <td>-20.028713</td>\n",
       "      <td>1.491027</td>\n",
       "      <td>4</td>\n",
       "    </tr>\n",
       "    <tr>\n",
       "      <th>6</th>\n",
       "      <td>1.005118</td>\n",
       "      <td>0.042613</td>\n",
       "      <td>0.023904</td>\n",
       "      <td>0.004153</td>\n",
       "      <td>-1</td>\n",
       "      <td>50</td>\n",
       "      <td>50</td>\n",
       "      <td>auto</td>\n",
       "      <td>{'n_jobs': -1, 'n_estimators': 50, 'min_sample...</td>\n",
       "      <td>-19.466177</td>\n",
       "      <td>-18.416332</td>\n",
       "      <td>-19.588972</td>\n",
       "      <td>-20.065754</td>\n",
       "      <td>-22.623586</td>\n",
       "      <td>-20.032164</td>\n",
       "      <td>1.403158</td>\n",
       "      <td>5</td>\n",
       "    </tr>\n",
       "    <tr>\n",
       "      <th>7</th>\n",
       "      <td>7.959583</td>\n",
       "      <td>0.119990</td>\n",
       "      <td>0.143477</td>\n",
       "      <td>0.009516</td>\n",
       "      <td>-1</td>\n",
       "      <td>500</td>\n",
       "      <td>50</td>\n",
       "      <td>auto</td>\n",
       "      <td>{'n_jobs': -1, 'n_estimators': 500, 'min_sampl...</td>\n",
       "      <td>-19.439153</td>\n",
       "      <td>-18.421502</td>\n",
       "      <td>-19.565725</td>\n",
       "      <td>-20.069899</td>\n",
       "      <td>-22.584252</td>\n",
       "      <td>-20.016106</td>\n",
       "      <td>1.391168</td>\n",
       "      <td>1</td>\n",
       "    </tr>\n",
       "    <tr>\n",
       "      <th>8</th>\n",
       "      <td>15.260557</td>\n",
       "      <td>0.853129</td>\n",
       "      <td>0.259766</td>\n",
       "      <td>0.008430</td>\n",
       "      <td>-1</td>\n",
       "      <td>1000</td>\n",
       "      <td>50</td>\n",
       "      <td>auto</td>\n",
       "      <td>{'n_jobs': -1, 'n_estimators': 1000, 'min_samp...</td>\n",
       "      <td>-19.441185</td>\n",
       "      <td>-18.418137</td>\n",
       "      <td>-19.567757</td>\n",
       "      <td>-20.069463</td>\n",
       "      <td>-22.589154</td>\n",
       "      <td>-20.017139</td>\n",
       "      <td>1.393447</td>\n",
       "      <td>2</td>\n",
       "    </tr>\n",
       "  </tbody>\n",
       "</table>\n",
       "</div>"
      ],
      "text/plain": [
       "   mean_fit_time  std_fit_time  mean_score_time  std_score_time param_n_jobs  \\\n",
       "0       1.556514      0.792858         0.031939        0.003006           -1   \n",
       "1       9.417273      0.096907         0.179851        0.010863           -1   \n",
       "2      22.622318      3.071672         0.452252        0.095499           -1   \n",
       "3       1.471734      0.049848         0.033798        0.009769           -1   \n",
       "4      12.119669      0.517926         0.217552        0.033584           -1   \n",
       "5      22.076030      3.422012         0.378916        0.024613           -1   \n",
       "6       1.005118      0.042613         0.023904        0.004153           -1   \n",
       "7       7.959583      0.119990         0.143477        0.009516           -1   \n",
       "8      15.260557      0.853129         0.259766        0.008430           -1   \n",
       "\n",
       "  param_n_estimators param_min_samples_leaf param_max_features  \\\n",
       "0                 50                      1               auto   \n",
       "1                500                      1               auto   \n",
       "2               1000                      1               auto   \n",
       "3                 50                     10               auto   \n",
       "4                500                     10               auto   \n",
       "5               1000                     10               auto   \n",
       "6                 50                     50               auto   \n",
       "7                500                     50               auto   \n",
       "8               1000                     50               auto   \n",
       "\n",
       "                                              params  split0_test_score  \\\n",
       "0  {'n_jobs': -1, 'n_estimators': 50, 'min_sample...         -19.838989   \n",
       "1  {'n_jobs': -1, 'n_estimators': 500, 'min_sampl...         -19.790652   \n",
       "2  {'n_jobs': -1, 'n_estimators': 1000, 'min_samp...         -19.799622   \n",
       "3  {'n_jobs': -1, 'n_estimators': 50, 'min_sample...         -19.542392   \n",
       "4  {'n_jobs': -1, 'n_estimators': 500, 'min_sampl...         -19.531595   \n",
       "5  {'n_jobs': -1, 'n_estimators': 1000, 'min_samp...         -19.529503   \n",
       "6  {'n_jobs': -1, 'n_estimators': 50, 'min_sample...         -19.466177   \n",
       "7  {'n_jobs': -1, 'n_estimators': 500, 'min_sampl...         -19.439153   \n",
       "8  {'n_jobs': -1, 'n_estimators': 1000, 'min_samp...         -19.441185   \n",
       "\n",
       "   split1_test_score  split2_test_score  split3_test_score  split4_test_score  \\\n",
       "0         -18.969858         -19.288195         -20.173129         -23.203960   \n",
       "1         -18.892282         -19.217592         -20.126185         -23.026175   \n",
       "2         -18.896115         -19.218036         -20.123751         -23.018185   \n",
       "3         -18.559206         -19.327507         -19.938486         -22.908240   \n",
       "4         -18.537497         -19.285868         -19.917434         -22.862991   \n",
       "5         -18.533582         -19.294356         -19.915055         -22.871068   \n",
       "6         -18.416332         -19.588972         -20.065754         -22.623586   \n",
       "7         -18.421502         -19.565725         -20.069899         -22.584252   \n",
       "8         -18.418137         -19.567757         -20.069463         -22.589154   \n",
       "\n",
       "   mean_test_score  std_test_score  rank_test_score  \n",
       "0       -20.294826        1.513572                9  \n",
       "1       -20.210577        1.472071                7  \n",
       "2       -20.211142        1.467789                8  \n",
       "3       -20.055166        1.495591                6  \n",
       "4       -20.027077        1.487829                3  \n",
       "5       -20.028713        1.491027                4  \n",
       "6       -20.032164        1.403158                5  \n",
       "7       -20.016106        1.391168                1  \n",
       "8       -20.017139        1.393447                2  "
      ]
     },
     "execution_count": 33,
     "metadata": {},
     "output_type": "execute_result"
    }
   ],
   "source": [
    "rf_result=pd.DataFrame(rf_main.cv_results_)\n",
    "rf_result"
   ]
  },
  {
   "cell_type": "code",
   "execution_count": 34,
   "metadata": {
    "scrolled": true
   },
   "outputs": [
    {
     "data": {
      "text/plain": [
       "param_n_estimators\n",
       "50     -20.127386\n",
       "500    -20.084587\n",
       "1000   -20.085665\n",
       "Name: mean_test_score, dtype: float64"
      ]
     },
     "execution_count": 34,
     "metadata": {},
     "output_type": "execute_result"
    }
   ],
   "source": [
    "est_score = rf_result.groupby('param_n_estimators')['mean_test_score'].mean()\n",
    "est_score"
   ]
  },
  {
   "cell_type": "code",
   "execution_count": 35,
   "metadata": {},
   "outputs": [
    {
     "data": {
      "text/plain": [
       "[Text(0.5, 0, 'n_estimators'),\n",
       " Text(0, 0.5, 'Mean CV Test Score'),\n",
       " Text(0.5, 1.0, 'n_estimators vs. Score (best_n_estimator = 500)')]"
      ]
     },
     "execution_count": 35,
     "metadata": {},
     "output_type": "execute_result"
    },
    {
     "data": {
      "image/png": "[encoded data removed]",
      "text/plain": [
       "<Figure size 1296x864 with 1 Axes>"
      ]
     },
     "metadata": {
      "needs_background": "light"
     },
     "output_type": "display_data"
    }
   ],
   "source": [
    "fig=plt.figure(figsize=(18, 12))\n",
    "\n",
    "axes=fig.add_subplot(2, 3, 1)\n",
    "axes.plot(est_score.index, est_score.values, marker='.')\n",
    "axes.set(xlabel='n_estimators', ylabel='Mean CV Test Score', title='n_estimators vs. Score (best_n_estimator = 500)')\n"
   ]
  },
  {
   "cell_type": "code",
   "execution_count": 36,
   "metadata": {},
   "outputs": [
    {
     "data": {
      "image/png": "[encoded data removed]",
      "text/plain": [
       "<Figure size 1296x576 with 1 Axes>"
      ]
     },
     "metadata": {
      "needs_background": "light"
     },
     "output_type": "display_data"
    }
   ],
   "source": [
    "fig = plt.figure(figsize=(18, 8))\n",
    "axes = fig.add_subplot(1, 1, 1)\n",
    "axes.plot(rf_main.best_estimator_.feature_importances_, marker='.', markersize=15)\n",
    "plt.xticks(range(len(rf_main.best_estimator_.feature_importances_)), X_train.columns,rotation=90)\n",
    "axes.set(ylabel='Feature Importance', title='Feature Importance for Random Forest Regression')\n",
    "\n",
    "plt.show()\n"
   ]
  },
  {
   "cell_type": "markdown",
   "metadata": {},
   "source": [
    "### Ensemble Method - Gradient Boost"
   ]
  },
  {
   "cell_type": "code",
   "execution_count": 37,
   "metadata": {},
   "outputs": [
    {
     "name": "stdout",
     "output_type": "stream",
     "text": [
      "Fitting 5 folds for each of 100 candidates, totalling 500 fits\n",
      "[CV] END learning_rate=0.05, max_features=auto, min_samples_leaf=10, min_samples_split=2, n_estimators=50; total time=   2.2s\n",
      "[CV] END learning_rate=0.05, max_features=auto, min_samples_leaf=10, min_samples_split=2, n_estimators=50; total time=   2.1s\n",
      "[CV] END learning_rate=0.05, max_features=auto, min_samples_leaf=10, min_samples_split=2, n_estimators=50; total time=   2.1s\n",
      "[CV] END learning_rate=0.05, max_features=auto, min_samples_leaf=10, min_samples_split=2, n_estimators=50; total time=   2.1s\n",
      "[CV] END learning_rate=0.05, max_features=auto, min_samples_leaf=10, min_samples_split=2, n_estimators=50; total time=   2.1s\n",
      "[CV] END learning_rate=0.1, max_features=auto, min_samples_leaf=1, min_samples_split=5, n_estimators=500; total time=  22.2s\n",
      "[CV] END learning_rate=0.1, max_features=auto, min_samples_leaf=1, min_samples_split=5, n_estimators=500; total time=  21.6s\n",
      "[CV] END learning_rate=0.1, max_features=auto, min_samples_leaf=1, min_samples_split=5, n_estimators=500; total time=  21.2s\n",
      "[CV] END learning_rate=0.1, max_features=auto, min_samples_leaf=1, min_samples_split=5, n_estimators=500; total time=  20.9s\n",
      "[CV] END learning_rate=0.1, max_features=auto, min_samples_leaf=1, min_samples_split=5, n_estimators=500; total time=  21.3s\n",
      "[CV] END learning_rate=0.1, max_features=auto, min_samples_leaf=1, min_samples_split=2, n_estimators=50; total time=   2.1s\n",
      "[CV] END learning_rate=0.1, max_features=auto, min_samples_leaf=1, min_samples_split=2, n_estimators=50; total time=   2.1s\n",
      "[CV] END learning_rate=0.1, max_features=auto, min_samples_leaf=1, min_samples_split=2, n_estimators=50; total time=   2.0s\n",
      "[CV] END learning_rate=0.1, max_features=auto, min_samples_leaf=1, min_samples_split=2, n_estimators=50; total time=   2.0s\n",
      "[CV] END learning_rate=0.1, max_features=auto, min_samples_leaf=1, min_samples_split=2, n_estimators=50; total time=   2.1s\n",
      "[CV] END learning_rate=0.05, max_features=auto, min_samples_leaf=7, min_samples_split=10, n_estimators=500; total time=  21.3s\n",
      "[CV] END learning_rate=0.05, max_features=auto, min_samples_leaf=7, min_samples_split=10, n_estimators=500; total time=  21.3s\n",
      "[CV] END learning_rate=0.05, max_features=auto, min_samples_leaf=7, min_samples_split=10, n_estimators=500; total time=  21.3s\n",
      "[CV] END learning_rate=0.05, max_features=auto, min_samples_leaf=7, min_samples_split=10, n_estimators=500; total time=  21.1s\n",
      "[CV] END learning_rate=0.05, max_features=auto, min_samples_leaf=7, min_samples_split=10, n_estimators=500; total time=  21.2s\n",
      "[CV] END learning_rate=0.05, max_features=auto, min_samples_leaf=1, min_samples_split=2, n_estimators=100; total time=   4.2s\n",
      "[CV] END learning_rate=0.05, max_features=auto, min_samples_leaf=1, min_samples_split=2, n_estimators=100; total time=   4.2s\n",
      "[CV] END learning_rate=0.05, max_features=auto, min_samples_leaf=1, min_samples_split=2, n_estimators=100; total time=   4.2s\n",
      "[CV] END learning_rate=0.05, max_features=auto, min_samples_leaf=1, min_samples_split=2, n_estimators=100; total time=   4.2s\n",
      "[CV] END learning_rate=0.05, max_features=auto, min_samples_leaf=1, min_samples_split=2, n_estimators=100; total time=   4.2s\n",
      "[CV] END learning_rate=0.05, max_features=auto, min_samples_leaf=1, min_samples_split=10, n_estimators=100; total time=   4.2s\n",
      "[CV] END learning_rate=0.05, max_features=auto, min_samples_leaf=1, min_samples_split=10, n_estimators=100; total time=   4.2s\n",
      "[CV] END learning_rate=0.05, max_features=auto, min_samples_leaf=1, min_samples_split=10, n_estimators=100; total time=   4.2s\n",
      "[CV] END learning_rate=0.05, max_features=auto, min_samples_leaf=1, min_samples_split=10, n_estimators=100; total time=   4.3s\n",
      "[CV] END learning_rate=0.05, max_features=auto, min_samples_leaf=1, min_samples_split=10, n_estimators=100; total time=   4.3s\n",
      "[CV] END learning_rate=0.01, max_features=auto, min_samples_leaf=7, min_samples_split=2, n_estimators=100; total time=   4.3s\n",
      "[CV] END learning_rate=0.01, max_features=auto, min_samples_leaf=7, min_samples_split=2, n_estimators=100; total time=   4.4s\n",
      "[CV] END learning_rate=0.01, max_features=auto, min_samples_leaf=7, min_samples_split=2, n_estimators=100; total time=   4.4s\n",
      "[CV] END learning_rate=0.01, max_features=auto, min_samples_leaf=7, min_samples_split=2, n_estimators=100; total time=   4.3s\n",
      "[CV] END learning_rate=0.01, max_features=auto, min_samples_leaf=7, min_samples_split=2, n_estimators=100; total time=   4.3s\n",
      "[CV] END learning_rate=0.05, max_features=auto, min_samples_leaf=7, min_samples_split=10, n_estimators=50; total time=   2.1s\n",
      "[CV] END learning_rate=0.05, max_features=auto, min_samples_leaf=7, min_samples_split=10, n_estimators=50; total time=   2.1s\n",
      "[CV] END learning_rate=0.05, max_features=auto, min_samples_leaf=7, min_samples_split=10, n_estimators=50; total time=   2.1s\n",
      "[CV] END learning_rate=0.05, max_features=auto, min_samples_leaf=7, min_samples_split=10, n_estimators=50; total time=   2.1s\n",
      "[CV] END learning_rate=0.05, max_features=auto, min_samples_leaf=7, min_samples_split=10, n_estimators=50; total time=   2.1s\n",
      "[CV] END learning_rate=0.01, max_features=auto, min_samples_leaf=3, min_samples_split=10, n_estimators=100; total time=   4.4s\n",
      "[CV] END learning_rate=0.01, max_features=auto, min_samples_leaf=3, min_samples_split=10, n_estimators=100; total time=   4.4s\n",
      "[CV] END learning_rate=0.01, max_features=auto, min_samples_leaf=3, min_samples_split=10, n_estimators=100; total time=   4.3s\n",
      "[CV] END learning_rate=0.01, max_features=auto, min_samples_leaf=3, min_samples_split=10, n_estimators=100; total time=   4.4s\n",
      "[CV] END learning_rate=0.01, max_features=auto, min_samples_leaf=3, min_samples_split=10, n_estimators=100; total time=   4.5s\n",
      "[CV] END learning_rate=0.05, max_features=auto, min_samples_leaf=7, min_samples_split=5, n_estimators=500; total time=  21.7s\n",
      "[CV] END learning_rate=0.05, max_features=auto, min_samples_leaf=7, min_samples_split=5, n_estimators=500; total time=  23.2s\n",
      "[CV] END learning_rate=0.05, max_features=auto, min_samples_leaf=7, min_samples_split=5, n_estimators=500; total time=  21.4s\n",
      "[CV] END learning_rate=0.05, max_features=auto, min_samples_leaf=7, min_samples_split=5, n_estimators=500; total time=  21.5s\n",
      "[CV] END learning_rate=0.05, max_features=auto, min_samples_leaf=7, min_samples_split=5, n_estimators=500; total time=  21.1s\n",
      "[CV] END learning_rate=0.01, max_features=auto, min_samples_leaf=7, min_samples_split=5, n_estimators=1000; total time=  43.7s\n",
      "[CV] END learning_rate=0.01, max_features=auto, min_samples_leaf=7, min_samples_split=5, n_estimators=1000; total time=  44.0s\n",
      "[CV] END learning_rate=0.01, max_features=auto, min_samples_leaf=7, min_samples_split=5, n_estimators=1000; total time=  43.0s\n",
      "[CV] END learning_rate=0.01, max_features=auto, min_samples_leaf=7, min_samples_split=5, n_estimators=1000; total time=  42.8s\n",
      "[CV] END learning_rate=0.01, max_features=auto, min_samples_leaf=7, min_samples_split=5, n_estimators=1000; total time=  43.0s\n",
      "[CV] END learning_rate=0.05, max_features=auto, min_samples_leaf=10, min_samples_split=5, n_estimators=500; total time=  21.6s\n",
      "[CV] END learning_rate=0.05, max_features=auto, min_samples_leaf=10, min_samples_split=5, n_estimators=500; total time=  21.2s\n",
      "[CV] END learning_rate=0.05, max_features=auto, min_samples_leaf=10, min_samples_split=5, n_estimators=500; total time=  21.4s\n",
      "[CV] END learning_rate=0.05, max_features=auto, min_samples_leaf=10, min_samples_split=5, n_estimators=500; total time=  21.1s\n",
      "[CV] END learning_rate=0.05, max_features=auto, min_samples_leaf=10, min_samples_split=5, n_estimators=500; total time=  21.8s\n",
      "[CV] END learning_rate=0.01, max_features=auto, min_samples_leaf=7, min_samples_split=5, n_estimators=100; total time=   4.6s\n",
      "[CV] END learning_rate=0.01, max_features=auto, min_samples_leaf=7, min_samples_split=5, n_estimators=100; total time=   4.6s\n",
      "[CV] END learning_rate=0.01, max_features=auto, min_samples_leaf=7, min_samples_split=5, n_estimators=100; total time=   4.4s\n",
      "[CV] END learning_rate=0.01, max_features=auto, min_samples_leaf=7, min_samples_split=5, n_estimators=100; total time=   4.3s\n",
      "[CV] END learning_rate=0.01, max_features=auto, min_samples_leaf=7, min_samples_split=5, n_estimators=100; total time=   4.3s\n"
     ]
    },
    {
     "name": "stdout",
     "output_type": "stream",
     "text": [
      "[CV] END learning_rate=0.1, max_features=auto, min_samples_leaf=7, min_samples_split=5, n_estimators=50; total time=   2.1s\n",
      "[CV] END learning_rate=0.1, max_features=auto, min_samples_leaf=7, min_samples_split=5, n_estimators=50; total time=   2.1s\n",
      "[CV] END learning_rate=0.1, max_features=auto, min_samples_leaf=7, min_samples_split=5, n_estimators=50; total time=   2.1s\n",
      "[CV] END learning_rate=0.1, max_features=auto, min_samples_leaf=7, min_samples_split=5, n_estimators=50; total time=   2.1s\n",
      "[CV] END learning_rate=0.1, max_features=auto, min_samples_leaf=7, min_samples_split=5, n_estimators=50; total time=   2.3s\n",
      "[CV] END learning_rate=0.01, max_features=auto, min_samples_leaf=1, min_samples_split=10, n_estimators=1000; total time=  45.7s\n",
      "[CV] END learning_rate=0.01, max_features=auto, min_samples_leaf=1, min_samples_split=10, n_estimators=1000; total time=  45.7s\n",
      "[CV] END learning_rate=0.01, max_features=auto, min_samples_leaf=1, min_samples_split=10, n_estimators=1000; total time=  45.4s\n",
      "[CV] END learning_rate=0.01, max_features=auto, min_samples_leaf=1, min_samples_split=10, n_estimators=1000; total time=  45.0s\n",
      "[CV] END learning_rate=0.01, max_features=auto, min_samples_leaf=1, min_samples_split=10, n_estimators=1000; total time=  46.1s\n",
      "[CV] END learning_rate=0.05, max_features=auto, min_samples_leaf=1, min_samples_split=10, n_estimators=500; total time=  21.9s\n",
      "[CV] END learning_rate=0.05, max_features=auto, min_samples_leaf=1, min_samples_split=10, n_estimators=500; total time=  21.9s\n",
      "[CV] END learning_rate=0.05, max_features=auto, min_samples_leaf=1, min_samples_split=10, n_estimators=500; total time=  21.3s\n",
      "[CV] END learning_rate=0.05, max_features=auto, min_samples_leaf=1, min_samples_split=10, n_estimators=500; total time=  21.7s\n",
      "[CV] END learning_rate=0.05, max_features=auto, min_samples_leaf=1, min_samples_split=10, n_estimators=500; total time=  21.8s\n",
      "[CV] END learning_rate=0.1, max_features=auto, min_samples_leaf=10, min_samples_split=2, n_estimators=500; total time=  21.6s\n",
      "[CV] END learning_rate=0.1, max_features=auto, min_samples_leaf=10, min_samples_split=2, n_estimators=500; total time=  21.8s\n",
      "[CV] END learning_rate=0.1, max_features=auto, min_samples_leaf=10, min_samples_split=2, n_estimators=500; total time=  20.9s\n",
      "[CV] END learning_rate=0.1, max_features=auto, min_samples_leaf=10, min_samples_split=2, n_estimators=500; total time=  21.2s\n",
      "[CV] END learning_rate=0.1, max_features=auto, min_samples_leaf=10, min_samples_split=2, n_estimators=500; total time=  21.0s\n",
      "[CV] END learning_rate=0.01, max_features=auto, min_samples_leaf=3, min_samples_split=5, n_estimators=500; total time=  21.8s\n",
      "[CV] END learning_rate=0.01, max_features=auto, min_samples_leaf=3, min_samples_split=5, n_estimators=500; total time=  21.7s\n",
      "[CV] END learning_rate=0.01, max_features=auto, min_samples_leaf=3, min_samples_split=5, n_estimators=500; total time=  21.8s\n",
      "[CV] END learning_rate=0.01, max_features=auto, min_samples_leaf=3, min_samples_split=5, n_estimators=500; total time=  21.5s\n",
      "[CV] END learning_rate=0.01, max_features=auto, min_samples_leaf=3, min_samples_split=5, n_estimators=500; total time=  21.5s\n",
      "[CV] END learning_rate=0.01, max_features=auto, min_samples_leaf=1, min_samples_split=2, n_estimators=1000; total time=  43.4s\n",
      "[CV] END learning_rate=0.01, max_features=auto, min_samples_leaf=1, min_samples_split=2, n_estimators=1000; total time=  43.8s\n",
      "[CV] END learning_rate=0.01, max_features=auto, min_samples_leaf=1, min_samples_split=2, n_estimators=1000; total time=  43.6s\n",
      "[CV] END learning_rate=0.01, max_features=auto, min_samples_leaf=1, min_samples_split=2, n_estimators=1000; total time=  42.8s\n",
      "[CV] END learning_rate=0.01, max_features=auto, min_samples_leaf=1, min_samples_split=2, n_estimators=1000; total time=  43.1s\n",
      "[CV] END learning_rate=0.05, max_features=auto, min_samples_leaf=3, min_samples_split=10, n_estimators=500; total time=  21.2s\n",
      "[CV] END learning_rate=0.05, max_features=auto, min_samples_leaf=3, min_samples_split=10, n_estimators=500; total time=  21.2s\n",
      "[CV] END learning_rate=0.05, max_features=auto, min_samples_leaf=3, min_samples_split=10, n_estimators=500; total time=  21.1s\n",
      "[CV] END learning_rate=0.05, max_features=auto, min_samples_leaf=3, min_samples_split=10, n_estimators=500; total time=  21.1s\n",
      "[CV] END learning_rate=0.05, max_features=auto, min_samples_leaf=3, min_samples_split=10, n_estimators=500; total time=  21.0s\n",
      "[CV] END learning_rate=0.01, max_features=auto, min_samples_leaf=7, min_samples_split=5, n_estimators=50; total time=   2.1s\n",
      "[CV] END learning_rate=0.01, max_features=auto, min_samples_leaf=7, min_samples_split=5, n_estimators=50; total time=   2.1s\n",
      "[CV] END learning_rate=0.01, max_features=auto, min_samples_leaf=7, min_samples_split=5, n_estimators=50; total time=   2.1s\n",
      "[CV] END learning_rate=0.01, max_features=auto, min_samples_leaf=7, min_samples_split=5, n_estimators=50; total time=   2.1s\n",
      "[CV] END learning_rate=0.01, max_features=auto, min_samples_leaf=7, min_samples_split=5, n_estimators=50; total time=   2.1s\n",
      "[CV] END learning_rate=0.05, max_features=auto, min_samples_leaf=3, min_samples_split=2, n_estimators=50; total time=   2.1s\n",
      "[CV] END learning_rate=0.05, max_features=auto, min_samples_leaf=3, min_samples_split=2, n_estimators=50; total time=   2.1s\n",
      "[CV] END learning_rate=0.05, max_features=auto, min_samples_leaf=3, min_samples_split=2, n_estimators=50; total time=   2.1s\n",
      "[CV] END learning_rate=0.05, max_features=auto, min_samples_leaf=3, min_samples_split=2, n_estimators=50; total time=   2.1s\n",
      "[CV] END learning_rate=0.05, max_features=auto, min_samples_leaf=3, min_samples_split=2, n_estimators=50; total time=   2.1s\n",
      "[CV] END learning_rate=0.05, max_features=auto, min_samples_leaf=3, min_samples_split=5, n_estimators=100; total time=   4.2s\n",
      "[CV] END learning_rate=0.05, max_features=auto, min_samples_leaf=3, min_samples_split=5, n_estimators=100; total time=   4.2s\n",
      "[CV] END learning_rate=0.05, max_features=auto, min_samples_leaf=3, min_samples_split=5, n_estimators=100; total time=   4.2s\n",
      "[CV] END learning_rate=0.05, max_features=auto, min_samples_leaf=3, min_samples_split=5, n_estimators=100; total time=   4.2s\n",
      "[CV] END learning_rate=0.05, max_features=auto, min_samples_leaf=3, min_samples_split=5, n_estimators=100; total time=   4.2s\n",
      "[CV] END learning_rate=0.1, max_features=auto, min_samples_leaf=1, min_samples_split=10, n_estimators=1000; total time=  44.1s\n",
      "[CV] END learning_rate=0.1, max_features=auto, min_samples_leaf=1, min_samples_split=10, n_estimators=1000; total time=  43.1s\n",
      "[CV] END learning_rate=0.1, max_features=auto, min_samples_leaf=1, min_samples_split=10, n_estimators=1000; total time=  42.3s\n",
      "[CV] END learning_rate=0.1, max_features=auto, min_samples_leaf=1, min_samples_split=10, n_estimators=1000; total time=  42.6s\n",
      "[CV] END learning_rate=0.1, max_features=auto, min_samples_leaf=1, min_samples_split=10, n_estimators=1000; total time=  42.0s\n",
      "[CV] END learning_rate=0.1, max_features=auto, min_samples_leaf=10, min_samples_split=2, n_estimators=100; total time=   4.2s\n",
      "[CV] END learning_rate=0.1, max_features=auto, min_samples_leaf=10, min_samples_split=2, n_estimators=100; total time=   4.2s\n",
      "[CV] END learning_rate=0.1, max_features=auto, min_samples_leaf=10, min_samples_split=2, n_estimators=100; total time=   4.1s\n",
      "[CV] END learning_rate=0.1, max_features=auto, min_samples_leaf=10, min_samples_split=2, n_estimators=100; total time=   4.2s\n",
      "[CV] END learning_rate=0.1, max_features=auto, min_samples_leaf=10, min_samples_split=2, n_estimators=100; total time=   4.2s\n",
      "[CV] END learning_rate=0.1, max_features=auto, min_samples_leaf=10, min_samples_split=5, n_estimators=1000; total time=  42.4s\n",
      "[CV] END learning_rate=0.1, max_features=auto, min_samples_leaf=10, min_samples_split=5, n_estimators=1000; total time=  43.3s\n",
      "[CV] END learning_rate=0.1, max_features=auto, min_samples_leaf=10, min_samples_split=5, n_estimators=1000; total time=  44.3s\n",
      "[CV] END learning_rate=0.1, max_features=auto, min_samples_leaf=10, min_samples_split=5, n_estimators=1000; total time=  44.3s\n",
      "[CV] END learning_rate=0.1, max_features=auto, min_samples_leaf=10, min_samples_split=5, n_estimators=1000; total time=  44.2s\n"
     ]
    },
    {
     "name": "stdout",
     "output_type": "stream",
     "text": [
      "[CV] END learning_rate=0.1, max_features=auto, min_samples_leaf=10, min_samples_split=10, n_estimators=500; total time=  21.5s\n",
      "[CV] END learning_rate=0.1, max_features=auto, min_samples_leaf=10, min_samples_split=10, n_estimators=500; total time=  21.6s\n",
      "[CV] END learning_rate=0.1, max_features=auto, min_samples_leaf=10, min_samples_split=10, n_estimators=500; total time=  21.7s\n",
      "[CV] END learning_rate=0.1, max_features=auto, min_samples_leaf=10, min_samples_split=10, n_estimators=500; total time=  21.9s\n",
      "[CV] END learning_rate=0.1, max_features=auto, min_samples_leaf=10, min_samples_split=10, n_estimators=500; total time=  23.6s\n",
      "[CV] END learning_rate=0.01, max_features=auto, min_samples_leaf=7, min_samples_split=10, n_estimators=1000; total time=  47.0s\n",
      "[CV] END learning_rate=0.01, max_features=auto, min_samples_leaf=7, min_samples_split=10, n_estimators=1000; total time=  43.6s\n",
      "[CV] END learning_rate=0.01, max_features=auto, min_samples_leaf=7, min_samples_split=10, n_estimators=1000; total time=  43.9s\n",
      "[CV] END learning_rate=0.01, max_features=auto, min_samples_leaf=7, min_samples_split=10, n_estimators=1000; total time=  43.8s\n",
      "[CV] END learning_rate=0.01, max_features=auto, min_samples_leaf=7, min_samples_split=10, n_estimators=1000; total time=  44.5s\n",
      "[CV] END learning_rate=0.05, max_features=auto, min_samples_leaf=3, min_samples_split=2, n_estimators=100; total time=   4.3s\n",
      "[CV] END learning_rate=0.05, max_features=auto, min_samples_leaf=3, min_samples_split=2, n_estimators=100; total time=   4.2s\n",
      "[CV] END learning_rate=0.05, max_features=auto, min_samples_leaf=3, min_samples_split=2, n_estimators=100; total time=   4.5s\n",
      "[CV] END learning_rate=0.05, max_features=auto, min_samples_leaf=3, min_samples_split=2, n_estimators=100; total time=   4.2s\n",
      "[CV] END learning_rate=0.05, max_features=auto, min_samples_leaf=3, min_samples_split=2, n_estimators=100; total time=   4.3s\n",
      "[CV] END learning_rate=0.05, max_features=auto, min_samples_leaf=1, min_samples_split=2, n_estimators=1000; total time=  44.5s\n",
      "[CV] END learning_rate=0.05, max_features=auto, min_samples_leaf=1, min_samples_split=2, n_estimators=1000; total time=  43.6s\n",
      "[CV] END learning_rate=0.05, max_features=auto, min_samples_leaf=1, min_samples_split=2, n_estimators=1000; total time=  43.7s\n",
      "[CV] END learning_rate=0.05, max_features=auto, min_samples_leaf=1, min_samples_split=2, n_estimators=1000; total time=  43.6s\n",
      "[CV] END learning_rate=0.05, max_features=auto, min_samples_leaf=1, min_samples_split=2, n_estimators=1000; total time=  43.2s\n",
      "[CV] END learning_rate=0.01, max_features=auto, min_samples_leaf=3, min_samples_split=2, n_estimators=500; total time=  21.6s\n",
      "[CV] END learning_rate=0.01, max_features=auto, min_samples_leaf=3, min_samples_split=2, n_estimators=500; total time=  21.6s\n",
      "[CV] END learning_rate=0.01, max_features=auto, min_samples_leaf=3, min_samples_split=2, n_estimators=500; total time=  21.5s\n",
      "[CV] END learning_rate=0.01, max_features=auto, min_samples_leaf=3, min_samples_split=2, n_estimators=500; total time=  21.4s\n",
      "[CV] END learning_rate=0.01, max_features=auto, min_samples_leaf=3, min_samples_split=2, n_estimators=500; total time=  21.5s\n",
      "[CV] END learning_rate=0.1, max_features=auto, min_samples_leaf=7, min_samples_split=10, n_estimators=500; total time=  21.1s\n",
      "[CV] END learning_rate=0.1, max_features=auto, min_samples_leaf=7, min_samples_split=10, n_estimators=500; total time=  21.3s\n",
      "[CV] END learning_rate=0.1, max_features=auto, min_samples_leaf=7, min_samples_split=10, n_estimators=500; total time=  21.0s\n",
      "[CV] END learning_rate=0.1, max_features=auto, min_samples_leaf=7, min_samples_split=10, n_estimators=500; total time=  21.0s\n",
      "[CV] END learning_rate=0.1, max_features=auto, min_samples_leaf=7, min_samples_split=10, n_estimators=500; total time=  21.1s\n",
      "[CV] END learning_rate=0.05, max_features=auto, min_samples_leaf=10, min_samples_split=5, n_estimators=1000; total time=  44.4s\n",
      "[CV] END learning_rate=0.05, max_features=auto, min_samples_leaf=10, min_samples_split=5, n_estimators=1000; total time=  43.3s\n",
      "[CV] END learning_rate=0.05, max_features=auto, min_samples_leaf=10, min_samples_split=5, n_estimators=1000; total time=  42.4s\n",
      "[CV] END learning_rate=0.05, max_features=auto, min_samples_leaf=10, min_samples_split=5, n_estimators=1000; total time=  42.3s\n",
      "[CV] END learning_rate=0.05, max_features=auto, min_samples_leaf=10, min_samples_split=5, n_estimators=1000; total time=  42.7s\n",
      "[CV] END learning_rate=0.05, max_features=auto, min_samples_leaf=3, min_samples_split=5, n_estimators=50; total time=   2.1s\n",
      "[CV] END learning_rate=0.05, max_features=auto, min_samples_leaf=3, min_samples_split=5, n_estimators=50; total time=   2.1s\n",
      "[CV] END learning_rate=0.05, max_features=auto, min_samples_leaf=3, min_samples_split=5, n_estimators=50; total time=   2.1s\n",
      "[CV] END learning_rate=0.05, max_features=auto, min_samples_leaf=3, min_samples_split=5, n_estimators=50; total time=   2.1s\n",
      "[CV] END learning_rate=0.05, max_features=auto, min_samples_leaf=3, min_samples_split=5, n_estimators=50; total time=   2.1s\n",
      "[CV] END learning_rate=0.01, max_features=auto, min_samples_leaf=1, min_samples_split=5, n_estimators=100; total time=   4.3s\n",
      "[CV] END learning_rate=0.01, max_features=auto, min_samples_leaf=1, min_samples_split=5, n_estimators=100; total time=   4.4s\n",
      "[CV] END learning_rate=0.01, max_features=auto, min_samples_leaf=1, min_samples_split=5, n_estimators=100; total time=   4.4s\n",
      "[CV] END learning_rate=0.01, max_features=auto, min_samples_leaf=1, min_samples_split=5, n_estimators=100; total time=   4.3s\n",
      "[CV] END learning_rate=0.01, max_features=auto, min_samples_leaf=1, min_samples_split=5, n_estimators=100; total time=   4.3s\n",
      "[CV] END learning_rate=0.05, max_features=auto, min_samples_leaf=1, min_samples_split=10, n_estimators=1000; total time=  43.3s\n",
      "[CV] END learning_rate=0.05, max_features=auto, min_samples_leaf=1, min_samples_split=10, n_estimators=1000; total time=  43.1s\n",
      "[CV] END learning_rate=0.05, max_features=auto, min_samples_leaf=1, min_samples_split=10, n_estimators=1000; total time=  43.4s\n",
      "[CV] END learning_rate=0.05, max_features=auto, min_samples_leaf=1, min_samples_split=10, n_estimators=1000; total time=  43.8s\n",
      "[CV] END learning_rate=0.05, max_features=auto, min_samples_leaf=1, min_samples_split=10, n_estimators=1000; total time=  43.2s\n",
      "[CV] END learning_rate=0.1, max_features=auto, min_samples_leaf=10, min_samples_split=5, n_estimators=500; total time=  21.4s\n",
      "[CV] END learning_rate=0.1, max_features=auto, min_samples_leaf=10, min_samples_split=5, n_estimators=500; total time=  21.4s\n",
      "[CV] END learning_rate=0.1, max_features=auto, min_samples_leaf=10, min_samples_split=5, n_estimators=500; total time=  21.3s\n",
      "[CV] END learning_rate=0.1, max_features=auto, min_samples_leaf=10, min_samples_split=5, n_estimators=500; total time=  21.6s\n",
      "[CV] END learning_rate=0.1, max_features=auto, min_samples_leaf=10, min_samples_split=5, n_estimators=500; total time=  21.7s\n",
      "[CV] END learning_rate=0.01, max_features=auto, min_samples_leaf=10, min_samples_split=2, n_estimators=100; total time=   4.4s\n",
      "[CV] END learning_rate=0.01, max_features=auto, min_samples_leaf=10, min_samples_split=2, n_estimators=100; total time=   4.4s\n",
      "[CV] END learning_rate=0.01, max_features=auto, min_samples_leaf=10, min_samples_split=2, n_estimators=100; total time=   4.4s\n",
      "[CV] END learning_rate=0.01, max_features=auto, min_samples_leaf=10, min_samples_split=2, n_estimators=100; total time=   4.4s\n",
      "[CV] END learning_rate=0.01, max_features=auto, min_samples_leaf=10, min_samples_split=2, n_estimators=100; total time=   4.4s\n",
      "[CV] END learning_rate=0.01, max_features=auto, min_samples_leaf=1, min_samples_split=2, n_estimators=500; total time=  22.2s\n",
      "[CV] END learning_rate=0.01, max_features=auto, min_samples_leaf=1, min_samples_split=2, n_estimators=500; total time=  21.9s\n",
      "[CV] END learning_rate=0.01, max_features=auto, min_samples_leaf=1, min_samples_split=2, n_estimators=500; total time=  21.8s\n",
      "[CV] END learning_rate=0.01, max_features=auto, min_samples_leaf=1, min_samples_split=2, n_estimators=500; total time=  21.7s\n",
      "[CV] END learning_rate=0.01, max_features=auto, min_samples_leaf=1, min_samples_split=2, n_estimators=500; total time=  22.1s\n"
     ]
    },
    {
     "name": "stdout",
     "output_type": "stream",
     "text": [
      "[CV] END learning_rate=0.1, max_features=auto, min_samples_leaf=7, min_samples_split=10, n_estimators=1000; total time=  44.0s\n",
      "[CV] END learning_rate=0.1, max_features=auto, min_samples_leaf=7, min_samples_split=10, n_estimators=1000; total time=  44.2s\n",
      "[CV] END learning_rate=0.1, max_features=auto, min_samples_leaf=7, min_samples_split=10, n_estimators=1000; total time=  42.2s\n",
      "[CV] END learning_rate=0.1, max_features=auto, min_samples_leaf=7, min_samples_split=10, n_estimators=1000; total time=  42.2s\n",
      "[CV] END learning_rate=0.1, max_features=auto, min_samples_leaf=7, min_samples_split=10, n_estimators=1000; total time=  42.0s\n",
      "[CV] END learning_rate=0.1, max_features=auto, min_samples_leaf=10, min_samples_split=5, n_estimators=50; total time=   2.1s\n",
      "[CV] END learning_rate=0.1, max_features=auto, min_samples_leaf=10, min_samples_split=5, n_estimators=50; total time=   2.1s\n",
      "[CV] END learning_rate=0.1, max_features=auto, min_samples_leaf=10, min_samples_split=5, n_estimators=50; total time=   2.0s\n",
      "[CV] END learning_rate=0.1, max_features=auto, min_samples_leaf=10, min_samples_split=5, n_estimators=50; total time=   2.0s\n",
      "[CV] END learning_rate=0.1, max_features=auto, min_samples_leaf=10, min_samples_split=5, n_estimators=50; total time=   2.1s\n",
      "[CV] END learning_rate=0.05, max_features=auto, min_samples_leaf=7, min_samples_split=2, n_estimators=50; total time=   2.1s\n",
      "[CV] END learning_rate=0.05, max_features=auto, min_samples_leaf=7, min_samples_split=2, n_estimators=50; total time=   2.1s\n",
      "[CV] END learning_rate=0.05, max_features=auto, min_samples_leaf=7, min_samples_split=2, n_estimators=50; total time=   2.1s\n",
      "[CV] END learning_rate=0.05, max_features=auto, min_samples_leaf=7, min_samples_split=2, n_estimators=50; total time=   2.1s\n",
      "[CV] END learning_rate=0.05, max_features=auto, min_samples_leaf=7, min_samples_split=2, n_estimators=50; total time=   2.1s\n",
      "[CV] END learning_rate=0.1, max_features=auto, min_samples_leaf=3, min_samples_split=10, n_estimators=50; total time=   2.1s\n",
      "[CV] END learning_rate=0.1, max_features=auto, min_samples_leaf=3, min_samples_split=10, n_estimators=50; total time=   2.1s\n",
      "[CV] END learning_rate=0.1, max_features=auto, min_samples_leaf=3, min_samples_split=10, n_estimators=50; total time=   2.0s\n",
      "[CV] END learning_rate=0.1, max_features=auto, min_samples_leaf=3, min_samples_split=10, n_estimators=50; total time=   2.0s\n",
      "[CV] END learning_rate=0.1, max_features=auto, min_samples_leaf=3, min_samples_split=10, n_estimators=50; total time=   2.0s\n",
      "[CV] END learning_rate=0.1, max_features=auto, min_samples_leaf=3, min_samples_split=2, n_estimators=100; total time=   4.2s\n",
      "[CV] END learning_rate=0.1, max_features=auto, min_samples_leaf=3, min_samples_split=2, n_estimators=100; total time=   4.2s\n",
      "[CV] END learning_rate=0.1, max_features=auto, min_samples_leaf=3, min_samples_split=2, n_estimators=100; total time=   4.2s\n",
      "[CV] END learning_rate=0.1, max_features=auto, min_samples_leaf=3, min_samples_split=2, n_estimators=100; total time=   4.2s\n",
      "[CV] END learning_rate=0.1, max_features=auto, min_samples_leaf=3, min_samples_split=2, n_estimators=100; total time=   4.2s\n",
      "[CV] END learning_rate=0.1, max_features=auto, min_samples_leaf=3, min_samples_split=2, n_estimators=50; total time=   2.1s\n",
      "[CV] END learning_rate=0.1, max_features=auto, min_samples_leaf=3, min_samples_split=2, n_estimators=50; total time=   2.1s\n",
      "[CV] END learning_rate=0.1, max_features=auto, min_samples_leaf=3, min_samples_split=2, n_estimators=50; total time=   2.0s\n",
      "[CV] END learning_rate=0.1, max_features=auto, min_samples_leaf=3, min_samples_split=2, n_estimators=50; total time=   2.0s\n",
      "[CV] END learning_rate=0.1, max_features=auto, min_samples_leaf=3, min_samples_split=2, n_estimators=50; total time=   2.0s\n",
      "[CV] END learning_rate=0.1, max_features=auto, min_samples_leaf=7, min_samples_split=2, n_estimators=50; total time=   2.1s\n",
      "[CV] END learning_rate=0.1, max_features=auto, min_samples_leaf=7, min_samples_split=2, n_estimators=50; total time=   2.1s\n",
      "[CV] END learning_rate=0.1, max_features=auto, min_samples_leaf=7, min_samples_split=2, n_estimators=50; total time=   2.1s\n",
      "[CV] END learning_rate=0.1, max_features=auto, min_samples_leaf=7, min_samples_split=2, n_estimators=50; total time=   2.1s\n",
      "[CV] END learning_rate=0.1, max_features=auto, min_samples_leaf=7, min_samples_split=2, n_estimators=50; total time=   2.1s\n",
      "[CV] END learning_rate=0.01, max_features=auto, min_samples_leaf=7, min_samples_split=10, n_estimators=500; total time=  21.6s\n",
      "[CV] END learning_rate=0.01, max_features=auto, min_samples_leaf=7, min_samples_split=10, n_estimators=500; total time=  21.8s\n",
      "[CV] END learning_rate=0.01, max_features=auto, min_samples_leaf=7, min_samples_split=10, n_estimators=500; total time=  21.5s\n",
      "[CV] END learning_rate=0.01, max_features=auto, min_samples_leaf=7, min_samples_split=10, n_estimators=500; total time=  21.4s\n",
      "[CV] END learning_rate=0.01, max_features=auto, min_samples_leaf=7, min_samples_split=10, n_estimators=500; total time=  22.0s\n",
      "[CV] END learning_rate=0.01, max_features=auto, min_samples_leaf=1, min_samples_split=2, n_estimators=50; total time=   2.1s\n",
      "[CV] END learning_rate=0.01, max_features=auto, min_samples_leaf=1, min_samples_split=2, n_estimators=50; total time=   2.1s\n",
      "[CV] END learning_rate=0.01, max_features=auto, min_samples_leaf=1, min_samples_split=2, n_estimators=50; total time=   2.1s\n",
      "[CV] END learning_rate=0.01, max_features=auto, min_samples_leaf=1, min_samples_split=2, n_estimators=50; total time=   2.1s\n",
      "[CV] END learning_rate=0.01, max_features=auto, min_samples_leaf=1, min_samples_split=2, n_estimators=50; total time=   2.1s\n",
      "[CV] END learning_rate=0.05, max_features=auto, min_samples_leaf=1, min_samples_split=10, n_estimators=50; total time=   2.2s\n",
      "[CV] END learning_rate=0.05, max_features=auto, min_samples_leaf=1, min_samples_split=10, n_estimators=50; total time=   2.1s\n",
      "[CV] END learning_rate=0.05, max_features=auto, min_samples_leaf=1, min_samples_split=10, n_estimators=50; total time=   2.2s\n",
      "[CV] END learning_rate=0.05, max_features=auto, min_samples_leaf=1, min_samples_split=10, n_estimators=50; total time=   2.2s\n",
      "[CV] END learning_rate=0.05, max_features=auto, min_samples_leaf=1, min_samples_split=10, n_estimators=50; total time=   2.1s\n",
      "[CV] END learning_rate=0.05, max_features=auto, min_samples_leaf=7, min_samples_split=5, n_estimators=1000; total time=  42.5s\n",
      "[CV] END learning_rate=0.05, max_features=auto, min_samples_leaf=7, min_samples_split=5, n_estimators=1000; total time=  44.3s\n",
      "[CV] END learning_rate=0.05, max_features=auto, min_samples_leaf=7, min_samples_split=5, n_estimators=1000; total time=  44.0s\n",
      "[CV] END learning_rate=0.05, max_features=auto, min_samples_leaf=7, min_samples_split=5, n_estimators=1000; total time=  42.8s\n",
      "[CV] END learning_rate=0.05, max_features=auto, min_samples_leaf=7, min_samples_split=5, n_estimators=1000; total time=  42.5s\n",
      "[CV] END learning_rate=0.01, max_features=auto, min_samples_leaf=10, min_samples_split=10, n_estimators=100; total time=   4.3s\n",
      "[CV] END learning_rate=0.01, max_features=auto, min_samples_leaf=10, min_samples_split=10, n_estimators=100; total time=   4.3s\n",
      "[CV] END learning_rate=0.01, max_features=auto, min_samples_leaf=10, min_samples_split=10, n_estimators=100; total time=   4.3s\n",
      "[CV] END learning_rate=0.01, max_features=auto, min_samples_leaf=10, min_samples_split=10, n_estimators=100; total time=   4.3s\n",
      "[CV] END learning_rate=0.01, max_features=auto, min_samples_leaf=10, min_samples_split=10, n_estimators=100; total time=   4.3s\n",
      "[CV] END learning_rate=0.01, max_features=auto, min_samples_leaf=7, min_samples_split=2, n_estimators=50; total time=   2.1s\n",
      "[CV] END learning_rate=0.01, max_features=auto, min_samples_leaf=7, min_samples_split=2, n_estimators=50; total time=   2.1s\n",
      "[CV] END learning_rate=0.01, max_features=auto, min_samples_leaf=7, min_samples_split=2, n_estimators=50; total time=   2.1s\n",
      "[CV] END learning_rate=0.01, max_features=auto, min_samples_leaf=7, min_samples_split=2, n_estimators=50; total time=   2.1s\n",
      "[CV] END learning_rate=0.01, max_features=auto, min_samples_leaf=7, min_samples_split=2, n_estimators=50; total time=   2.1s\n",
      "[CV] END learning_rate=0.1, max_features=auto, min_samples_leaf=10, min_samples_split=10, n_estimators=100; total time=   4.2s\n"
     ]
    },
    {
     "name": "stdout",
     "output_type": "stream",
     "text": [
      "[CV] END learning_rate=0.1, max_features=auto, min_samples_leaf=10, min_samples_split=10, n_estimators=100; total time=   4.2s\n",
      "[CV] END learning_rate=0.1, max_features=auto, min_samples_leaf=10, min_samples_split=10, n_estimators=100; total time=   4.1s\n",
      "[CV] END learning_rate=0.1, max_features=auto, min_samples_leaf=10, min_samples_split=10, n_estimators=100; total time=   4.2s\n",
      "[CV] END learning_rate=0.1, max_features=auto, min_samples_leaf=10, min_samples_split=10, n_estimators=100; total time=   4.2s\n",
      "[CV] END learning_rate=0.01, max_features=auto, min_samples_leaf=3, min_samples_split=2, n_estimators=1000; total time=  43.1s\n",
      "[CV] END learning_rate=0.01, max_features=auto, min_samples_leaf=3, min_samples_split=2, n_estimators=1000; total time=  43.0s\n",
      "[CV] END learning_rate=0.01, max_features=auto, min_samples_leaf=3, min_samples_split=2, n_estimators=1000; total time=  42.9s\n",
      "[CV] END learning_rate=0.01, max_features=auto, min_samples_leaf=3, min_samples_split=2, n_estimators=1000; total time=  43.6s\n",
      "[CV] END learning_rate=0.01, max_features=auto, min_samples_leaf=3, min_samples_split=2, n_estimators=1000; total time=  44.2s\n",
      "[CV] END learning_rate=0.05, max_features=auto, min_samples_leaf=1, min_samples_split=5, n_estimators=1000; total time=  43.5s\n",
      "[CV] END learning_rate=0.05, max_features=auto, min_samples_leaf=1, min_samples_split=5, n_estimators=1000; total time=  43.1s\n",
      "[CV] END learning_rate=0.05, max_features=auto, min_samples_leaf=1, min_samples_split=5, n_estimators=1000; total time=  43.3s\n",
      "[CV] END learning_rate=0.05, max_features=auto, min_samples_leaf=1, min_samples_split=5, n_estimators=1000; total time=  42.3s\n",
      "[CV] END learning_rate=0.05, max_features=auto, min_samples_leaf=1, min_samples_split=5, n_estimators=1000; total time=  42.5s\n",
      "[CV] END learning_rate=0.05, max_features=auto, min_samples_leaf=10, min_samples_split=10, n_estimators=50; total time=   2.1s\n",
      "[CV] END learning_rate=0.05, max_features=auto, min_samples_leaf=10, min_samples_split=10, n_estimators=50; total time=   2.1s\n",
      "[CV] END learning_rate=0.05, max_features=auto, min_samples_leaf=10, min_samples_split=10, n_estimators=50; total time=   2.1s\n",
      "[CV] END learning_rate=0.05, max_features=auto, min_samples_leaf=10, min_samples_split=10, n_estimators=50; total time=   2.1s\n",
      "[CV] END learning_rate=0.05, max_features=auto, min_samples_leaf=10, min_samples_split=10, n_estimators=50; total time=   2.1s\n",
      "[CV] END learning_rate=0.1, max_features=auto, min_samples_leaf=10, min_samples_split=10, n_estimators=50; total time=   2.1s\n",
      "[CV] END learning_rate=0.1, max_features=auto, min_samples_leaf=10, min_samples_split=10, n_estimators=50; total time=   2.1s\n",
      "[CV] END learning_rate=0.1, max_features=auto, min_samples_leaf=10, min_samples_split=10, n_estimators=50; total time=   2.0s\n",
      "[CV] END learning_rate=0.1, max_features=auto, min_samples_leaf=10, min_samples_split=10, n_estimators=50; total time=   2.1s\n",
      "[CV] END learning_rate=0.1, max_features=auto, min_samples_leaf=10, min_samples_split=10, n_estimators=50; total time=   2.0s\n",
      "[CV] END learning_rate=0.1, max_features=auto, min_samples_leaf=1, min_samples_split=5, n_estimators=100; total time=   4.2s\n",
      "[CV] END learning_rate=0.1, max_features=auto, min_samples_leaf=1, min_samples_split=5, n_estimators=100; total time=   4.2s\n",
      "[CV] END learning_rate=0.1, max_features=auto, min_samples_leaf=1, min_samples_split=5, n_estimators=100; total time=   4.2s\n",
      "[CV] END learning_rate=0.1, max_features=auto, min_samples_leaf=1, min_samples_split=5, n_estimators=100; total time=   4.2s\n",
      "[CV] END learning_rate=0.1, max_features=auto, min_samples_leaf=1, min_samples_split=5, n_estimators=100; total time=   4.2s\n",
      "[CV] END learning_rate=0.1, max_features=auto, min_samples_leaf=1, min_samples_split=2, n_estimators=100; total time=   4.2s\n",
      "[CV] END learning_rate=0.1, max_features=auto, min_samples_leaf=1, min_samples_split=2, n_estimators=100; total time=   4.2s\n",
      "[CV] END learning_rate=0.1, max_features=auto, min_samples_leaf=1, min_samples_split=2, n_estimators=100; total time=   4.2s\n",
      "[CV] END learning_rate=0.1, max_features=auto, min_samples_leaf=1, min_samples_split=2, n_estimators=100; total time=   4.2s\n",
      "[CV] END learning_rate=0.1, max_features=auto, min_samples_leaf=1, min_samples_split=2, n_estimators=100; total time=   4.2s\n",
      "[CV] END learning_rate=0.05, max_features=auto, min_samples_leaf=10, min_samples_split=5, n_estimators=50; total time=   2.1s\n",
      "[CV] END learning_rate=0.05, max_features=auto, min_samples_leaf=10, min_samples_split=5, n_estimators=50; total time=   2.1s\n",
      "[CV] END learning_rate=0.05, max_features=auto, min_samples_leaf=10, min_samples_split=5, n_estimators=50; total time=   2.1s\n",
      "[CV] END learning_rate=0.05, max_features=auto, min_samples_leaf=10, min_samples_split=5, n_estimators=50; total time=   2.1s\n",
      "[CV] END learning_rate=0.05, max_features=auto, min_samples_leaf=10, min_samples_split=5, n_estimators=50; total time=   2.1s\n",
      "[CV] END learning_rate=0.01, max_features=auto, min_samples_leaf=3, min_samples_split=10, n_estimators=1000; total time=  43.2s\n",
      "[CV] END learning_rate=0.01, max_features=auto, min_samples_leaf=3, min_samples_split=10, n_estimators=1000; total time=  43.8s\n",
      "[CV] END learning_rate=0.01, max_features=auto, min_samples_leaf=3, min_samples_split=10, n_estimators=1000; total time=  42.7s\n",
      "[CV] END learning_rate=0.01, max_features=auto, min_samples_leaf=3, min_samples_split=10, n_estimators=1000; total time=  43.2s\n",
      "[CV] END learning_rate=0.01, max_features=auto, min_samples_leaf=3, min_samples_split=10, n_estimators=1000; total time=  43.8s\n",
      "[CV] END learning_rate=0.1, max_features=auto, min_samples_leaf=7, min_samples_split=5, n_estimators=500; total time=  21.1s\n",
      "[CV] END learning_rate=0.1, max_features=auto, min_samples_leaf=7, min_samples_split=5, n_estimators=500; total time=  21.4s\n",
      "[CV] END learning_rate=0.1, max_features=auto, min_samples_leaf=7, min_samples_split=5, n_estimators=500; total time=  21.0s\n",
      "[CV] END learning_rate=0.1, max_features=auto, min_samples_leaf=7, min_samples_split=5, n_estimators=500; total time=  21.5s\n",
      "[CV] END learning_rate=0.1, max_features=auto, min_samples_leaf=7, min_samples_split=5, n_estimators=500; total time=  21.2s\n",
      "[CV] END learning_rate=0.1, max_features=auto, min_samples_leaf=7, min_samples_split=5, n_estimators=1000; total time=  42.4s\n",
      "[CV] END learning_rate=0.1, max_features=auto, min_samples_leaf=7, min_samples_split=5, n_estimators=1000; total time=  42.6s\n",
      "[CV] END learning_rate=0.1, max_features=auto, min_samples_leaf=7, min_samples_split=5, n_estimators=1000; total time=  42.1s\n",
      "[CV] END learning_rate=0.1, max_features=auto, min_samples_leaf=7, min_samples_split=5, n_estimators=1000; total time=  42.3s\n",
      "[CV] END learning_rate=0.1, max_features=auto, min_samples_leaf=7, min_samples_split=5, n_estimators=1000; total time=  42.1s\n",
      "[CV] END learning_rate=0.01, max_features=auto, min_samples_leaf=1, min_samples_split=2, n_estimators=100; total time=   4.4s\n",
      "[CV] END learning_rate=0.01, max_features=auto, min_samples_leaf=1, min_samples_split=2, n_estimators=100; total time=   4.3s\n",
      "[CV] END learning_rate=0.01, max_features=auto, min_samples_leaf=1, min_samples_split=2, n_estimators=100; total time=   4.3s\n",
      "[CV] END learning_rate=0.01, max_features=auto, min_samples_leaf=1, min_samples_split=2, n_estimators=100; total time=   4.3s\n",
      "[CV] END learning_rate=0.01, max_features=auto, min_samples_leaf=1, min_samples_split=2, n_estimators=100; total time=   4.4s\n",
      "[CV] END learning_rate=0.05, max_features=auto, min_samples_leaf=3, min_samples_split=2, n_estimators=500; total time=  22.1s\n",
      "[CV] END learning_rate=0.05, max_features=auto, min_samples_leaf=3, min_samples_split=2, n_estimators=500; total time=  21.9s\n",
      "[CV] END learning_rate=0.05, max_features=auto, min_samples_leaf=3, min_samples_split=2, n_estimators=500; total time=  21.2s\n",
      "[CV] END learning_rate=0.05, max_features=auto, min_samples_leaf=3, min_samples_split=2, n_estimators=500; total time=  21.1s\n",
      "[CV] END learning_rate=0.05, max_features=auto, min_samples_leaf=3, min_samples_split=2, n_estimators=500; total time=  21.1s\n",
      "[CV] END learning_rate=0.05, max_features=auto, min_samples_leaf=1, min_samples_split=2, n_estimators=500; total time=  21.1s\n"
     ]
    },
    {
     "name": "stdout",
     "output_type": "stream",
     "text": [
      "[CV] END learning_rate=0.05, max_features=auto, min_samples_leaf=1, min_samples_split=2, n_estimators=500; total time=  21.2s\n",
      "[CV] END learning_rate=0.05, max_features=auto, min_samples_leaf=1, min_samples_split=2, n_estimators=500; total time=  21.3s\n",
      "[CV] END learning_rate=0.05, max_features=auto, min_samples_leaf=1, min_samples_split=2, n_estimators=500; total time=  21.0s\n",
      "[CV] END learning_rate=0.05, max_features=auto, min_samples_leaf=1, min_samples_split=2, n_estimators=500; total time=  21.2s\n",
      "[CV] END learning_rate=0.01, max_features=auto, min_samples_leaf=7, min_samples_split=10, n_estimators=100; total time=   4.3s\n",
      "[CV] END learning_rate=0.01, max_features=auto, min_samples_leaf=7, min_samples_split=10, n_estimators=100; total time=   4.4s\n",
      "[CV] END learning_rate=0.01, max_features=auto, min_samples_leaf=7, min_samples_split=10, n_estimators=100; total time=   4.3s\n",
      "[CV] END learning_rate=0.01, max_features=auto, min_samples_leaf=7, min_samples_split=10, n_estimators=100; total time=   4.3s\n",
      "[CV] END learning_rate=0.01, max_features=auto, min_samples_leaf=7, min_samples_split=10, n_estimators=100; total time=   4.3s\n",
      "[CV] END learning_rate=0.05, max_features=auto, min_samples_leaf=10, min_samples_split=2, n_estimators=500; total time=  21.1s\n",
      "[CV] END learning_rate=0.05, max_features=auto, min_samples_leaf=10, min_samples_split=2, n_estimators=500; total time=  21.3s\n",
      "[CV] END learning_rate=0.05, max_features=auto, min_samples_leaf=10, min_samples_split=2, n_estimators=500; total time=  21.4s\n",
      "[CV] END learning_rate=0.05, max_features=auto, min_samples_leaf=10, min_samples_split=2, n_estimators=500; total time=  20.9s\n",
      "[CV] END learning_rate=0.05, max_features=auto, min_samples_leaf=10, min_samples_split=2, n_estimators=500; total time=  21.3s\n",
      "[CV] END learning_rate=0.01, max_features=auto, min_samples_leaf=3, min_samples_split=10, n_estimators=500; total time=  21.8s\n",
      "[CV] END learning_rate=0.01, max_features=auto, min_samples_leaf=3, min_samples_split=10, n_estimators=500; total time=  21.7s\n",
      "[CV] END learning_rate=0.01, max_features=auto, min_samples_leaf=3, min_samples_split=10, n_estimators=500; total time=  21.6s\n",
      "[CV] END learning_rate=0.01, max_features=auto, min_samples_leaf=3, min_samples_split=10, n_estimators=500; total time=  21.5s\n",
      "[CV] END learning_rate=0.01, max_features=auto, min_samples_leaf=3, min_samples_split=10, n_estimators=500; total time=  21.5s\n",
      "[CV] END learning_rate=0.1, max_features=auto, min_samples_leaf=3, min_samples_split=10, n_estimators=500; total time=  21.3s\n",
      "[CV] END learning_rate=0.1, max_features=auto, min_samples_leaf=3, min_samples_split=10, n_estimators=500; total time=  21.1s\n",
      "[CV] END learning_rate=0.1, max_features=auto, min_samples_leaf=3, min_samples_split=10, n_estimators=500; total time=  21.0s\n",
      "[CV] END learning_rate=0.1, max_features=auto, min_samples_leaf=3, min_samples_split=10, n_estimators=500; total time=  21.5s\n",
      "[CV] END learning_rate=0.1, max_features=auto, min_samples_leaf=3, min_samples_split=10, n_estimators=500; total time=  21.1s\n",
      "[CV] END learning_rate=0.1, max_features=auto, min_samples_leaf=3, min_samples_split=5, n_estimators=50; total time=   2.1s\n",
      "[CV] END learning_rate=0.1, max_features=auto, min_samples_leaf=3, min_samples_split=5, n_estimators=50; total time=   2.1s\n",
      "[CV] END learning_rate=0.1, max_features=auto, min_samples_leaf=3, min_samples_split=5, n_estimators=50; total time=   2.0s\n",
      "[CV] END learning_rate=0.1, max_features=auto, min_samples_leaf=3, min_samples_split=5, n_estimators=50; total time=   2.0s\n",
      "[CV] END learning_rate=0.1, max_features=auto, min_samples_leaf=3, min_samples_split=5, n_estimators=50; total time=   2.1s\n",
      "[CV] END learning_rate=0.05, max_features=auto, min_samples_leaf=1, min_samples_split=5, n_estimators=50; total time=   2.1s\n",
      "[CV] END learning_rate=0.05, max_features=auto, min_samples_leaf=1, min_samples_split=5, n_estimators=50; total time=   2.1s\n",
      "[CV] END learning_rate=0.05, max_features=auto, min_samples_leaf=1, min_samples_split=5, n_estimators=50; total time=   2.1s\n",
      "[CV] END learning_rate=0.05, max_features=auto, min_samples_leaf=1, min_samples_split=5, n_estimators=50; total time=   2.1s\n",
      "[CV] END learning_rate=0.05, max_features=auto, min_samples_leaf=1, min_samples_split=5, n_estimators=50; total time=   2.1s\n",
      "[CV] END learning_rate=0.1, max_features=auto, min_samples_leaf=1, min_samples_split=2, n_estimators=500; total time=  21.2s\n",
      "[CV] END learning_rate=0.1, max_features=auto, min_samples_leaf=1, min_samples_split=2, n_estimators=500; total time=  21.3s\n",
      "[CV] END learning_rate=0.1, max_features=auto, min_samples_leaf=1, min_samples_split=2, n_estimators=500; total time=  21.1s\n",
      "[CV] END learning_rate=0.1, max_features=auto, min_samples_leaf=1, min_samples_split=2, n_estimators=500; total time=  21.4s\n",
      "[CV] END learning_rate=0.1, max_features=auto, min_samples_leaf=1, min_samples_split=2, n_estimators=500; total time=  21.6s\n",
      "[CV] END learning_rate=0.1, max_features=auto, min_samples_leaf=10, min_samples_split=10, n_estimators=1000; total time=  43.9s\n",
      "[CV] END learning_rate=0.1, max_features=auto, min_samples_leaf=10, min_samples_split=10, n_estimators=1000; total time=  43.1s\n",
      "[CV] END learning_rate=0.1, max_features=auto, min_samples_leaf=10, min_samples_split=10, n_estimators=1000; total time=  42.3s\n",
      "[CV] END learning_rate=0.1, max_features=auto, min_samples_leaf=10, min_samples_split=10, n_estimators=1000; total time=  42.4s\n",
      "[CV] END learning_rate=0.1, max_features=auto, min_samples_leaf=10, min_samples_split=10, n_estimators=1000; total time=  42.2s\n",
      "[CV] END learning_rate=0.01, max_features=auto, min_samples_leaf=7, min_samples_split=5, n_estimators=500; total time=  22.2s\n",
      "[CV] END learning_rate=0.01, max_features=auto, min_samples_leaf=7, min_samples_split=5, n_estimators=500; total time=  21.9s\n",
      "[CV] END learning_rate=0.01, max_features=auto, min_samples_leaf=7, min_samples_split=5, n_estimators=500; total time=  21.4s\n",
      "[CV] END learning_rate=0.01, max_features=auto, min_samples_leaf=7, min_samples_split=5, n_estimators=500; total time=  21.4s\n",
      "[CV] END learning_rate=0.01, max_features=auto, min_samples_leaf=7, min_samples_split=5, n_estimators=500; total time=  21.5s\n",
      "[CV] END learning_rate=0.01, max_features=auto, min_samples_leaf=10, min_samples_split=5, n_estimators=1000; total time=  42.9s\n",
      "[CV] END learning_rate=0.01, max_features=auto, min_samples_leaf=10, min_samples_split=5, n_estimators=1000; total time=  43.2s\n",
      "[CV] END learning_rate=0.01, max_features=auto, min_samples_leaf=10, min_samples_split=5, n_estimators=1000; total time=  42.9s\n",
      "[CV] END learning_rate=0.01, max_features=auto, min_samples_leaf=10, min_samples_split=5, n_estimators=1000; total time=  42.6s\n",
      "[CV] END learning_rate=0.01, max_features=auto, min_samples_leaf=10, min_samples_split=5, n_estimators=1000; total time=  42.8s\n",
      "[CV] END learning_rate=0.1, max_features=auto, min_samples_leaf=7, min_samples_split=2, n_estimators=500; total time=  21.1s\n",
      "[CV] END learning_rate=0.1, max_features=auto, min_samples_leaf=7, min_samples_split=2, n_estimators=500; total time=  21.4s\n",
      "[CV] END learning_rate=0.1, max_features=auto, min_samples_leaf=7, min_samples_split=2, n_estimators=500; total time=  20.9s\n",
      "[CV] END learning_rate=0.1, max_features=auto, min_samples_leaf=7, min_samples_split=2, n_estimators=500; total time=  21.0s\n",
      "[CV] END learning_rate=0.1, max_features=auto, min_samples_leaf=7, min_samples_split=2, n_estimators=500; total time=  21.0s\n",
      "[CV] END learning_rate=0.01, max_features=auto, min_samples_leaf=3, min_samples_split=2, n_estimators=100; total time=   4.3s\n",
      "[CV] END learning_rate=0.01, max_features=auto, min_samples_leaf=3, min_samples_split=2, n_estimators=100; total time=   4.4s\n",
      "[CV] END learning_rate=0.01, max_features=auto, min_samples_leaf=3, min_samples_split=2, n_estimators=100; total time=   4.3s\n",
      "[CV] END learning_rate=0.01, max_features=auto, min_samples_leaf=3, min_samples_split=2, n_estimators=100; total time=   4.3s\n",
      "[CV] END learning_rate=0.01, max_features=auto, min_samples_leaf=3, min_samples_split=2, n_estimators=100; total time=   4.3s\n",
      "[CV] END learning_rate=0.1, max_features=auto, min_samples_leaf=1, min_samples_split=10, n_estimators=50; total time=   2.1s\n"
     ]
    },
    {
     "name": "stdout",
     "output_type": "stream",
     "text": [
      "[CV] END learning_rate=0.1, max_features=auto, min_samples_leaf=1, min_samples_split=10, n_estimators=50; total time=   2.1s\n",
      "[CV] END learning_rate=0.1, max_features=auto, min_samples_leaf=1, min_samples_split=10, n_estimators=50; total time=   2.1s\n",
      "[CV] END learning_rate=0.1, max_features=auto, min_samples_leaf=1, min_samples_split=10, n_estimators=50; total time=   2.1s\n",
      "[CV] END learning_rate=0.1, max_features=auto, min_samples_leaf=1, min_samples_split=10, n_estimators=50; total time=   2.1s\n",
      "[CV] END learning_rate=0.1, max_features=auto, min_samples_leaf=7, min_samples_split=10, n_estimators=50; total time=   2.1s\n",
      "[CV] END learning_rate=0.1, max_features=auto, min_samples_leaf=7, min_samples_split=10, n_estimators=50; total time=   2.1s\n",
      "[CV] END learning_rate=0.1, max_features=auto, min_samples_leaf=7, min_samples_split=10, n_estimators=50; total time=   2.0s\n",
      "[CV] END learning_rate=0.1, max_features=auto, min_samples_leaf=7, min_samples_split=10, n_estimators=50; total time=   2.0s\n",
      "[CV] END learning_rate=0.1, max_features=auto, min_samples_leaf=7, min_samples_split=10, n_estimators=50; total time=   2.0s\n",
      "[CV] END learning_rate=0.1, max_features=auto, min_samples_leaf=3, min_samples_split=10, n_estimators=100; total time=   4.2s\n",
      "[CV] END learning_rate=0.1, max_features=auto, min_samples_leaf=3, min_samples_split=10, n_estimators=100; total time=   4.2s\n",
      "[CV] END learning_rate=0.1, max_features=auto, min_samples_leaf=3, min_samples_split=10, n_estimators=100; total time=   4.2s\n",
      "[CV] END learning_rate=0.1, max_features=auto, min_samples_leaf=3, min_samples_split=10, n_estimators=100; total time=   4.2s\n",
      "[CV] END learning_rate=0.1, max_features=auto, min_samples_leaf=3, min_samples_split=10, n_estimators=100; total time=   4.2s\n",
      "[CV] END learning_rate=0.01, max_features=auto, min_samples_leaf=10, min_samples_split=5, n_estimators=500; total time=  21.7s\n",
      "[CV] END learning_rate=0.01, max_features=auto, min_samples_leaf=10, min_samples_split=5, n_estimators=500; total time=  21.8s\n",
      "[CV] END learning_rate=0.01, max_features=auto, min_samples_leaf=10, min_samples_split=5, n_estimators=500; total time=  21.8s\n",
      "[CV] END learning_rate=0.01, max_features=auto, min_samples_leaf=10, min_samples_split=5, n_estimators=500; total time=  21.4s\n",
      "[CV] END learning_rate=0.01, max_features=auto, min_samples_leaf=10, min_samples_split=5, n_estimators=500; total time=  21.5s\n",
      "[CV] END learning_rate=0.1, max_features=auto, min_samples_leaf=1, min_samples_split=5, n_estimators=1000; total time=23.7min\n",
      "[CV] END learning_rate=0.1, max_features=auto, min_samples_leaf=1, min_samples_split=5, n_estimators=1000; total time=  43.8s\n",
      "[CV] END learning_rate=0.1, max_features=auto, min_samples_leaf=1, min_samples_split=5, n_estimators=1000; total time=  42.5s\n",
      "[CV] END learning_rate=0.1, max_features=auto, min_samples_leaf=1, min_samples_split=5, n_estimators=1000; total time=  42.7s\n",
      "[CV] END learning_rate=0.1, max_features=auto, min_samples_leaf=1, min_samples_split=5, n_estimators=1000; total time=  45.7s\n",
      "[CV] END learning_rate=0.1, max_features=auto, min_samples_leaf=10, min_samples_split=5, n_estimators=100; total time=   4.6s\n",
      "[CV] END learning_rate=0.1, max_features=auto, min_samples_leaf=10, min_samples_split=5, n_estimators=100; total time=   4.9s\n",
      "[CV] END learning_rate=0.1, max_features=auto, min_samples_leaf=10, min_samples_split=5, n_estimators=100; total time=   4.3s\n",
      "[CV] END learning_rate=0.1, max_features=auto, min_samples_leaf=10, min_samples_split=5, n_estimators=100; total time=   4.6s\n",
      "[CV] END learning_rate=0.1, max_features=auto, min_samples_leaf=10, min_samples_split=5, n_estimators=100; total time=   4.8s\n",
      "[CV] END learning_rate=0.1, max_features=auto, min_samples_leaf=1, min_samples_split=10, n_estimators=500; total time=  25.2s\n",
      "[CV] END learning_rate=0.1, max_features=auto, min_samples_leaf=1, min_samples_split=10, n_estimators=500; total time=  24.6s\n",
      "[CV] END learning_rate=0.1, max_features=auto, min_samples_leaf=1, min_samples_split=10, n_estimators=500; total time=  24.6s\n",
      "[CV] END learning_rate=0.1, max_features=auto, min_samples_leaf=1, min_samples_split=10, n_estimators=500; total time=  24.9s\n",
      "[CV] END learning_rate=0.1, max_features=auto, min_samples_leaf=1, min_samples_split=10, n_estimators=500; total time=  24.7s\n",
      "[CV] END learning_rate=0.01, max_features=auto, min_samples_leaf=3, min_samples_split=5, n_estimators=50; total time=   2.4s\n",
      "[CV] END learning_rate=0.01, max_features=auto, min_samples_leaf=3, min_samples_split=5, n_estimators=50; total time=   2.4s\n",
      "[CV] END learning_rate=0.01, max_features=auto, min_samples_leaf=3, min_samples_split=5, n_estimators=50; total time=   2.6s\n",
      "[CV] END learning_rate=0.01, max_features=auto, min_samples_leaf=3, min_samples_split=5, n_estimators=50; total time=   2.6s\n",
      "[CV] END learning_rate=0.01, max_features=auto, min_samples_leaf=3, min_samples_split=5, n_estimators=50; total time=   2.6s\n",
      "[CV] END learning_rate=0.05, max_features=auto, min_samples_leaf=7, min_samples_split=5, n_estimators=100; total time=   5.0s\n",
      "[CV] END learning_rate=0.05, max_features=auto, min_samples_leaf=7, min_samples_split=5, n_estimators=100; total time=   5.0s\n",
      "[CV] END learning_rate=0.05, max_features=auto, min_samples_leaf=7, min_samples_split=5, n_estimators=100; total time=   5.0s\n",
      "[CV] END learning_rate=0.05, max_features=auto, min_samples_leaf=7, min_samples_split=5, n_estimators=100; total time=   4.8s\n",
      "[CV] END learning_rate=0.05, max_features=auto, min_samples_leaf=7, min_samples_split=5, n_estimators=100; total time=   4.8s\n",
      "[CV] END learning_rate=0.01, max_features=auto, min_samples_leaf=10, min_samples_split=10, n_estimators=1000; total time=  52.0s\n",
      "[CV] END learning_rate=0.01, max_features=auto, min_samples_leaf=10, min_samples_split=10, n_estimators=1000; total time=  52.8s\n",
      "[CV] END learning_rate=0.01, max_features=auto, min_samples_leaf=10, min_samples_split=10, n_estimators=1000; total time=  46.5s\n",
      "[CV] END learning_rate=0.01, max_features=auto, min_samples_leaf=10, min_samples_split=10, n_estimators=1000; total time=  45.1s\n",
      "[CV] END learning_rate=0.01, max_features=auto, min_samples_leaf=10, min_samples_split=10, n_estimators=1000; total time=  44.1s\n",
      "[CV] END learning_rate=0.1, max_features=auto, min_samples_leaf=1, min_samples_split=2, n_estimators=1000; total time=  43.5s\n",
      "[CV] END learning_rate=0.1, max_features=auto, min_samples_leaf=1, min_samples_split=2, n_estimators=1000; total time=  43.0s\n",
      "[CV] END learning_rate=0.1, max_features=auto, min_samples_leaf=1, min_samples_split=2, n_estimators=1000; total time=  42.5s\n",
      "[CV] END learning_rate=0.1, max_features=auto, min_samples_leaf=1, min_samples_split=2, n_estimators=1000; total time=  42.2s\n",
      "[CV] END learning_rate=0.1, max_features=auto, min_samples_leaf=1, min_samples_split=2, n_estimators=1000; total time=  44.0s\n",
      "[CV] END learning_rate=0.1, max_features=auto, min_samples_leaf=3, min_samples_split=2, n_estimators=500; total time=  21.6s\n",
      "[CV] END learning_rate=0.1, max_features=auto, min_samples_leaf=3, min_samples_split=2, n_estimators=500; total time=  21.0s\n",
      "[CV] END learning_rate=0.1, max_features=auto, min_samples_leaf=3, min_samples_split=2, n_estimators=500; total time=  21.2s\n",
      "[CV] END learning_rate=0.1, max_features=auto, min_samples_leaf=3, min_samples_split=2, n_estimators=500; total time=  21.1s\n",
      "[CV] END learning_rate=0.1, max_features=auto, min_samples_leaf=3, min_samples_split=2, n_estimators=500; total time=  21.1s\n",
      "[CV] END learning_rate=0.1, max_features=auto, min_samples_leaf=10, min_samples_split=2, n_estimators=50; total time=   2.1s\n",
      "[CV] END learning_rate=0.1, max_features=auto, min_samples_leaf=10, min_samples_split=2, n_estimators=50; total time=   2.1s\n",
      "[CV] END learning_rate=0.1, max_features=auto, min_samples_leaf=10, min_samples_split=2, n_estimators=50; total time=   2.1s\n",
      "[CV] END learning_rate=0.1, max_features=auto, min_samples_leaf=10, min_samples_split=2, n_estimators=50; total time=   2.0s\n",
      "[CV] END learning_rate=0.1, max_features=auto, min_samples_leaf=10, min_samples_split=2, n_estimators=50; total time=   2.1s\n",
      "[CV] END learning_rate=0.05, max_features=auto, min_samples_leaf=10, min_samples_split=2, n_estimators=100; total time=   4.3s\n",
      "[CV] END learning_rate=0.05, max_features=auto, min_samples_leaf=10, min_samples_split=2, n_estimators=100; total time=   4.4s\n"
     ]
    },
    {
     "name": "stdout",
     "output_type": "stream",
     "text": [
      "[CV] END learning_rate=0.05, max_features=auto, min_samples_leaf=10, min_samples_split=2, n_estimators=100; total time=   4.3s\n",
      "[CV] END learning_rate=0.05, max_features=auto, min_samples_leaf=10, min_samples_split=2, n_estimators=100; total time=   4.2s\n",
      "[CV] END learning_rate=0.05, max_features=auto, min_samples_leaf=10, min_samples_split=2, n_estimators=100; total time=   4.2s\n",
      "[CV] END learning_rate=0.05, max_features=auto, min_samples_leaf=3, min_samples_split=5, n_estimators=500; total time=  21.2s\n",
      "[CV] END learning_rate=0.05, max_features=auto, min_samples_leaf=3, min_samples_split=5, n_estimators=500; total time=  21.2s\n",
      "[CV] END learning_rate=0.05, max_features=auto, min_samples_leaf=3, min_samples_split=5, n_estimators=500; total time=  21.2s\n",
      "[CV] END learning_rate=0.05, max_features=auto, min_samples_leaf=3, min_samples_split=5, n_estimators=500; total time=  21.0s\n",
      "[CV] END learning_rate=0.05, max_features=auto, min_samples_leaf=3, min_samples_split=5, n_estimators=500; total time=  21.2s\n",
      "[CV] END learning_rate=0.05, max_features=auto, min_samples_leaf=10, min_samples_split=10, n_estimators=500; total time=  21.2s\n",
      "[CV] END learning_rate=0.05, max_features=auto, min_samples_leaf=10, min_samples_split=10, n_estimators=500; total time=  21.2s\n",
      "[CV] END learning_rate=0.05, max_features=auto, min_samples_leaf=10, min_samples_split=10, n_estimators=500; total time=  21.2s\n",
      "[CV] END learning_rate=0.05, max_features=auto, min_samples_leaf=10, min_samples_split=10, n_estimators=500; total time=  21.4s\n",
      "[CV] END learning_rate=0.05, max_features=auto, min_samples_leaf=10, min_samples_split=10, n_estimators=500; total time=  21.3s\n",
      "[CV] END learning_rate=0.01, max_features=auto, min_samples_leaf=10, min_samples_split=2, n_estimators=500; total time=  21.8s\n",
      "[CV] END learning_rate=0.01, max_features=auto, min_samples_leaf=10, min_samples_split=2, n_estimators=500; total time=  21.8s\n",
      "[CV] END learning_rate=0.01, max_features=auto, min_samples_leaf=10, min_samples_split=2, n_estimators=500; total time=  22.1s\n",
      "[CV] END learning_rate=0.01, max_features=auto, min_samples_leaf=10, min_samples_split=2, n_estimators=500; total time=  22.4s\n",
      "[CV] END learning_rate=0.01, max_features=auto, min_samples_leaf=10, min_samples_split=2, n_estimators=500; total time=  23.5s\n",
      "[CV] END learning_rate=0.1, max_features=auto, min_samples_leaf=7, min_samples_split=2, n_estimators=100; total time=   4.7s\n",
      "[CV] END learning_rate=0.1, max_features=auto, min_samples_leaf=7, min_samples_split=2, n_estimators=100; total time=   5.0s\n",
      "[CV] END learning_rate=0.1, max_features=auto, min_samples_leaf=7, min_samples_split=2, n_estimators=100; total time=   5.0s\n",
      "[CV] END learning_rate=0.1, max_features=auto, min_samples_leaf=7, min_samples_split=2, n_estimators=100; total time=   5.1s\n",
      "[CV] END learning_rate=0.1, max_features=auto, min_samples_leaf=7, min_samples_split=2, n_estimators=100; total time=   4.7s\n",
      "[CV] END learning_rate=0.01, max_features=auto, min_samples_leaf=3, min_samples_split=5, n_estimators=1000; total time=  47.9s\n",
      "[CV] END learning_rate=0.01, max_features=auto, min_samples_leaf=3, min_samples_split=5, n_estimators=1000; total time=  44.8s\n",
      "[CV] END learning_rate=0.01, max_features=auto, min_samples_leaf=3, min_samples_split=5, n_estimators=1000; total time=  44.8s\n",
      "[CV] END learning_rate=0.01, max_features=auto, min_samples_leaf=3, min_samples_split=5, n_estimators=1000; total time=  43.7s\n",
      "[CV] END learning_rate=0.01, max_features=auto, min_samples_leaf=3, min_samples_split=5, n_estimators=1000; total time=  43.3s\n",
      "[CV] END learning_rate=0.1, max_features=auto, min_samples_leaf=3, min_samples_split=10, n_estimators=1000; total time=  45.0s\n",
      "[CV] END learning_rate=0.1, max_features=auto, min_samples_leaf=3, min_samples_split=10, n_estimators=1000; total time=  44.1s\n",
      "[CV] END learning_rate=0.1, max_features=auto, min_samples_leaf=3, min_samples_split=10, n_estimators=1000; total time=  42.7s\n",
      "[CV] END learning_rate=0.1, max_features=auto, min_samples_leaf=3, min_samples_split=10, n_estimators=1000; total time=  43.3s\n",
      "[CV] END learning_rate=0.1, max_features=auto, min_samples_leaf=3, min_samples_split=10, n_estimators=1000; total time=  44.1s\n",
      "[CV] END learning_rate=0.01, max_features=auto, min_samples_leaf=1, min_samples_split=10, n_estimators=500; total time=  22.8s\n",
      "[CV] END learning_rate=0.01, max_features=auto, min_samples_leaf=1, min_samples_split=10, n_estimators=500; total time=  22.6s\n",
      "[CV] END learning_rate=0.01, max_features=auto, min_samples_leaf=1, min_samples_split=10, n_estimators=500; total time=  22.0s\n",
      "[CV] END learning_rate=0.01, max_features=auto, min_samples_leaf=1, min_samples_split=10, n_estimators=500; total time=  21.8s\n",
      "[CV] END learning_rate=0.01, max_features=auto, min_samples_leaf=1, min_samples_split=10, n_estimators=500; total time=  22.1s\n",
      "[CV] END learning_rate=0.05, max_features=auto, min_samples_leaf=7, min_samples_split=10, n_estimators=100; total time=   4.4s\n",
      "[CV] END learning_rate=0.05, max_features=auto, min_samples_leaf=7, min_samples_split=10, n_estimators=100; total time=   4.3s\n",
      "[CV] END learning_rate=0.05, max_features=auto, min_samples_leaf=7, min_samples_split=10, n_estimators=100; total time=   4.6s\n",
      "[CV] END learning_rate=0.05, max_features=auto, min_samples_leaf=7, min_samples_split=10, n_estimators=100; total time=   4.4s\n",
      "[CV] END learning_rate=0.05, max_features=auto, min_samples_leaf=7, min_samples_split=10, n_estimators=100; total time=   4.4s\n"
     ]
    },
    {
     "data": {
      "text/plain": [
       "RandomizedSearchCV(cv=5, estimator=GradientBoostingRegressor(random_state=42),\n",
       "                   n_iter=100,\n",
       "                   param_distributions={'learning_rate': [0.01, 0.05, 0.1],\n",
       "                                        'max_features': ['auto'],\n",
       "                                        'min_samples_leaf': [1, 3, 7, 10],\n",
       "                                        'min_samples_split': [2, 5, 10],\n",
       "                                        'n_estimators': [50, 100, 500, 1000]},\n",
       "                   scoring=make_scorer(rmse, greater_is_better=False),\n",
       "                   verbose=2)"
      ]
     },
     "execution_count": 37,
     "metadata": {},
     "output_type": "execute_result"
    }
   ],
   "source": [
    "# The code for hyperparameter tuning is commented out as it takes a long time to run \n",
    "\n",
    "# Tuning the hyperparameters\n",
    "\n",
    "from sklearn.ensemble import GradientBoostingRegressor\n",
    "\n",
    "param_distributions = {'n_estimators': [50,100,500,1000], 'learning_rate':[0.01, 0.05, 0.1],'max_features':['auto'], 'min_samples_leaf':[1, 3, 7, 10], 'min_samples_split':[2,5,10]}\n",
    "grad_boost = RandomizedSearchCV(GradientBoostingRegressor(random_state=42), param_distributions, verbose=2, n_iter = 100,cv=5, scoring=rmse_cv)\n",
    "grad_boost.fit(X_train, y_train)\n"
   ]
  },
  {
   "cell_type": "code",
   "execution_count": 38,
   "metadata": {},
   "outputs": [
    {
     "name": "stdout",
     "output_type": "stream",
     "text": [
      "Best parameters for Gradient Boost Model: {'n_estimators': 1000, 'min_samples_split': 10, 'min_samples_leaf': 3, 'max_features': 'auto', 'learning_rate': 0.1}\n"
     ]
    }
   ],
   "source": [
    "print('Best parameters for Gradient Boost Model: {}'.format(grad_boost.best_params_))"
   ]
  },
  {
   "cell_type": "markdown",
   "metadata": {},
   "source": [
    "Best parameters for Gradient Boost Model: {'n_estimators': 500, 'min_samples_split': 2, 'min_samples_leaf': 10, 'max_features': 'sqrt', 'max_depth': 60, 'learning_rate': 0.01}"
   ]
  },
  {
   "cell_type": "code",
   "execution_count": 39,
   "metadata": {},
   "outputs": [
    {
     "name": "stderr",
     "output_type": "stream",
     "text": [
      "C:\\Users\\ADMIN\\anaconda3\\envs\\geo_env\\lib\\site-packages\\sklearn\\model_selection\\_search.py:292: UserWarning: The total space of parameters 1 is smaller than n_iter=100. Running 1 iterations. For exhaustive searches, use GridSearchCV.\n",
      "  warnings.warn(\n"
     ]
    },
    {
     "name": "stdout",
     "output_type": "stream",
     "text": [
      "CPU times: total: 5min 36s\n",
      "Wall time: 5min 36s\n"
     ]
    },
    {
     "data": {
      "text/plain": [
       "RandomizedSearchCV(cv=5, estimator=GradientBoostingRegressor(random_state=42),\n",
       "                   n_iter=100,\n",
       "                   param_distributions={'learning_rate': [0.01],\n",
       "                                        'max_depth': [60],\n",
       "                                        'max_features': ['sqrt'],\n",
       "                                        'min_samples_leaf': [10],\n",
       "                                        'min_samples_split': [2],\n",
       "                                        'n_estimators': [500]},\n",
       "                   scoring=make_scorer(rmse, greater_is_better=False))"
      ]
     },
     "execution_count": 39,
     "metadata": {},
     "output_type": "execute_result"
    }
   ],
   "source": [
    "# Following code uses the best parameters generated above to fit the model\n",
    "\n",
    "from sklearn.ensemble import GradientBoostingRegressor\n",
    "\n",
    "param_distributions = {'n_estimators': [500], 'learning_rate':[0.01],'max_features':['sqrt'], 'min_samples_leaf':[10], 'max_depth':[60], 'min_samples_split':[2]}\n",
    "grad_boost = RandomizedSearchCV(GradientBoostingRegressor(random_state=42), param_distributions, n_iter = 100,cv=5, scoring=rmse_cv)\n",
    "%time grad_boost.fit(X_train, y_train)"
   ]
  },
  {
   "cell_type": "code",
   "execution_count": 40,
   "metadata": {},
   "outputs": [
    {
     "name": "stdout",
     "output_type": "stream",
     "text": [
      "Best parameters for Gradient Boost Model: {'n_estimators': 500, 'min_samples_split': 2, 'min_samples_leaf': 10, 'max_features': 'sqrt', 'max_depth': 60, 'learning_rate': 0.01}\n"
     ]
    }
   ],
   "source": [
    "print('Best parameters for Gradient Boost Model: {}'.format(grad_boost.best_params_))"
   ]
  },
  {
   "cell_type": "code",
   "execution_count": 87,
   "metadata": {},
   "outputs": [
    {
     "name": "stdout",
     "output_type": "stream",
     "text": [
      "CPU times: total: 6.33 s\n",
      "Wall time: 6.32 s\n"
     ]
    }
   ],
   "source": [
    "param_summary = [grad_boost.best_params_,'']\n",
    "\n",
    "%time rmse_summary, y_predict_summary = model_fit(grad_boost, X_train, y_train, X_test, y_test)\n",
    "ypred_test['GB'] = y_predict_summary[1]\n",
    "ypred_train['GB'] = y_predict_summary[0]\n",
    "\n",
    "algo_score.loc['Gradient Boost'] = rmse_summary+param_summary"
   ]
  },
  {
   "cell_type": "code",
   "execution_count": 96,
   "metadata": {},
   "outputs": [
    {
     "data": {
      "text/html": [
       "<div>\n",
       "<style scoped>\n",
       "    .dataframe tbody tr th:only-of-type {\n",
       "        vertical-align: middle;\n",
       "    }\n",
       "\n",
       "    .dataframe tbody tr th {\n",
       "        vertical-align: top;\n",
       "    }\n",
       "\n",
       "    .dataframe thead th {\n",
       "        text-align: right;\n",
       "    }\n",
       "</style>\n",
       "<table border=\"1\" class=\"dataframe\">\n",
       "  <thead>\n",
       "    <tr style=\"text-align: right;\">\n",
       "      <th></th>\n",
       "      <th>Train RMSE</th>\n",
       "      <th>Test RMSE</th>\n",
       "      <th>Hyperparameters</th>\n",
       "      <th>Training+Test Time(sec)</th>\n",
       "    </tr>\n",
       "    <tr>\n",
       "      <th>Modelling Algo</th>\n",
       "      <th></th>\n",
       "      <th></th>\n",
       "      <th></th>\n",
       "      <th></th>\n",
       "    </tr>\n",
       "  </thead>\n",
       "  <tbody>\n",
       "    <tr>\n",
       "      <th>Linear Regression</th>\n",
       "      <td>25.033909</td>\n",
       "      <td>25.931982</td>\n",
       "      <td></td>\n",
       "      <td>0.017</td>\n",
       "    </tr>\n",
       "    <tr>\n",
       "      <th>Ridge Regression</th>\n",
       "      <td>25.033909</td>\n",
       "      <td>25.931989</td>\n",
       "      <td>{'alpha': 145}</td>\n",
       "      <td>0.521</td>\n",
       "    </tr>\n",
       "    <tr>\n",
       "      <th>Lasso Regression</th>\n",
       "      <td>25.034230</td>\n",
       "      <td>25.933011</td>\n",
       "      <td>{'alpha': 0.22}</td>\n",
       "      <td>1.897</td>\n",
       "    </tr>\n",
       "    <tr>\n",
       "      <th>Random Forest</th>\n",
       "      <td>19.004094</td>\n",
       "      <td>22.758548</td>\n",
       "      <td>{'n_jobs': -1, 'n_estimators': 500, 'min_sampl...</td>\n",
       "      <td>410.735</td>\n",
       "    </tr>\n",
       "    <tr>\n",
       "      <th>Gradient Boost</th>\n",
       "      <td>16.939885</td>\n",
       "      <td>22.973598</td>\n",
       "      <td>{'n_estimators': 500, 'min_samples_split': 2, ...</td>\n",
       "      <td>342.32</td>\n",
       "    </tr>\n",
       "  </tbody>\n",
       "</table>\n",
       "</div>"
      ],
      "text/plain": [
       "                   Train RMSE  Test RMSE  \\\n",
       "Modelling Algo                             \n",
       "Linear Regression   25.033909  25.931982   \n",
       "Ridge Regression    25.033909  25.931989   \n",
       "Lasso Regression    25.034230  25.933011   \n",
       "Random Forest       19.004094  22.758548   \n",
       "Gradient Boost      16.939885  22.973598   \n",
       "\n",
       "                                                     Hyperparameters  \\\n",
       "Modelling Algo                                                         \n",
       "Linear Regression                                                      \n",
       "Ridge Regression                                      {'alpha': 145}   \n",
       "Lasso Regression                                     {'alpha': 0.22}   \n",
       "Random Forest      {'n_jobs': -1, 'n_estimators': 500, 'min_sampl...   \n",
       "Gradient Boost     {'n_estimators': 500, 'min_samples_split': 2, ...   \n",
       "\n",
       "                  Training+Test Time(sec)  \n",
       "Modelling Algo                             \n",
       "Linear Regression                   0.017  \n",
       "Ridge Regression                    0.521  \n",
       "Lasso Regression                    1.897  \n",
       "Random Forest                     410.735  \n",
       "Gradient Boost                     342.32  "
      ]
     },
     "execution_count": 96,
     "metadata": {},
     "output_type": "execute_result"
    }
   ],
   "source": [
    "algo_score.loc['Gradient Boost', 'Training+Test Time(sec)'] = 342.32\n",
    "cv_time.append(342.32)\n",
    "algo_score"
   ]
  },
  {
   "cell_type": "markdown",
   "metadata": {},
   "source": [
    "### Visualize the mean score against different values for n estimators\n",
    "\n",
    "Parts of code have been commenting out as they take long time to execute"
   ]
  },
  {
   "cell_type": "code",
   "execution_count": 49,
   "metadata": {},
   "outputs": [
    {
     "data": {
      "text/html": [
       "<div>\n",
       "<style scoped>\n",
       "    .dataframe tbody tr th:only-of-type {\n",
       "        vertical-align: middle;\n",
       "    }\n",
       "\n",
       "    .dataframe tbody tr th {\n",
       "        vertical-align: top;\n",
       "    }\n",
       "\n",
       "    .dataframe thead th {\n",
       "        text-align: right;\n",
       "    }\n",
       "</style>\n",
       "<table border=\"1\" class=\"dataframe\">\n",
       "  <thead>\n",
       "    <tr style=\"text-align: right;\">\n",
       "      <th></th>\n",
       "      <th>mean_fit_time</th>\n",
       "      <th>std_fit_time</th>\n",
       "      <th>mean_score_time</th>\n",
       "      <th>std_score_time</th>\n",
       "      <th>param_n_estimators</th>\n",
       "      <th>param_min_samples_split</th>\n",
       "      <th>param_min_samples_leaf</th>\n",
       "      <th>param_max_features</th>\n",
       "      <th>param_max_depth</th>\n",
       "      <th>param_learning_rate</th>\n",
       "      <th>params</th>\n",
       "      <th>split0_test_score</th>\n",
       "      <th>split1_test_score</th>\n",
       "      <th>split2_test_score</th>\n",
       "      <th>split3_test_score</th>\n",
       "      <th>split4_test_score</th>\n",
       "      <th>mean_test_score</th>\n",
       "      <th>std_test_score</th>\n",
       "      <th>rank_test_score</th>\n",
       "    </tr>\n",
       "  </thead>\n",
       "  <tbody>\n",
       "    <tr>\n",
       "      <th>0</th>\n",
       "      <td>52.832785</td>\n",
       "      <td>1.170898</td>\n",
       "      <td>0.967636</td>\n",
       "      <td>0.065326</td>\n",
       "      <td>500</td>\n",
       "      <td>2</td>\n",
       "      <td>10</td>\n",
       "      <td>sqrt</td>\n",
       "      <td>60</td>\n",
       "      <td>0.01</td>\n",
       "      <td>{'n_estimators': 500, 'min_samples_split': 2, ...</td>\n",
       "      <td>-19.918394</td>\n",
       "      <td>-18.837173</td>\n",
       "      <td>-19.883446</td>\n",
       "      <td>-20.177688</td>\n",
       "      <td>-22.333409</td>\n",
       "      <td>-20.230022</td>\n",
       "      <td>1.147539</td>\n",
       "      <td>1</td>\n",
       "    </tr>\n",
       "  </tbody>\n",
       "</table>\n",
       "</div>"
      ],
      "text/plain": [
       "   mean_fit_time  std_fit_time  mean_score_time  std_score_time  \\\n",
       "0      52.832785      1.170898         0.967636        0.065326   \n",
       "\n",
       "  param_n_estimators param_min_samples_split param_min_samples_leaf  \\\n",
       "0                500                       2                     10   \n",
       "\n",
       "  param_max_features param_max_depth param_learning_rate  \\\n",
       "0               sqrt              60                0.01   \n",
       "\n",
       "                                              params  split0_test_score  \\\n",
       "0  {'n_estimators': 500, 'min_samples_split': 2, ...         -19.918394   \n",
       "\n",
       "   split1_test_score  split2_test_score  split3_test_score  split4_test_score  \\\n",
       "0         -18.837173         -19.883446         -20.177688         -22.333409   \n",
       "\n",
       "   mean_test_score  std_test_score  rank_test_score  \n",
       "0       -20.230022        1.147539                1  "
      ]
     },
     "execution_count": 49,
     "metadata": {},
     "output_type": "execute_result"
    }
   ],
   "source": [
    "gb_result=pd.DataFrame(grad_boost.cv_results_)\n",
    "gb_result"
   ]
  },
  {
   "cell_type": "code",
   "execution_count": 50,
   "metadata": {},
   "outputs": [
    {
     "data": {
      "text/plain": [
       "param_n_estimators\n",
       "500   -20.230022\n",
       "Name: mean_test_score, dtype: float64"
      ]
     },
     "execution_count": 50,
     "metadata": {},
     "output_type": "execute_result"
    }
   ],
   "source": [
    "gb_score = gb_result.groupby('param_n_estimators')['mean_test_score'].mean()\n",
    "gb_score"
   ]
  },
  {
   "cell_type": "code",
   "execution_count": 51,
   "metadata": {},
   "outputs": [
    {
     "data": {
      "text/plain": [
       "[Text(0.5, 0, 'n_estimators'),\n",
       " Text(0, 0.5, 'Mean CV Test Score'),\n",
       " Text(0.5, 1.0, 'n_estimators vs. Score (best_n_estimator = 500)')]"
      ]
     },
     "execution_count": 51,
     "metadata": {},
     "output_type": "execute_result"
    },
    {
     "data": {
      "image/png": "[encoded data removed]",
      "text/plain": [
       "<Figure size 1296x864 with 1 Axes>"
      ]
     },
     "metadata": {
      "needs_background": "light"
     },
     "output_type": "display_data"
    }
   ],
   "source": [
    "fig=plt.figure(figsize=(18, 12))\n",
    "\n",
    "axes=fig.add_subplot(2, 3, 1)\n",
    "axes.plot(gb_score.index, gb_score.values, marker='.')\n",
    "axes.set(xlabel='n_estimators', ylabel='Mean CV Test Score', title='n_estimators vs. Score (best_n_estimator = 500)')\n"
   ]
  },
  {
   "cell_type": "code",
   "execution_count": 52,
   "metadata": {},
   "outputs": [
    {
     "data": {
      "image/png": "[encoded data removed]",
      "text/plain": [
       "<Figure size 1296x576 with 1 Axes>"
      ]
     },
     "metadata": {
      "needs_background": "light"
     },
     "output_type": "display_data"
    }
   ],
   "source": [
    "fig = plt.figure(figsize=(18, 8))\n",
    "axes = fig.add_subplot(1, 1, 1)\n",
    "axes.plot(grad_boost.best_estimator_.feature_importances_, marker='.', markersize=15)\n",
    "plt.xticks(range(len(grad_boost.best_estimator_.feature_importances_)), X_train.columns,rotation=90)\n",
    "axes.set(ylabel='Feature Importance', title='Feature Importance for Gradient Boost Regressor')\n",
    "# axes.set(xlim=[-1, len(X_train.columns)], ylim=[0, 1])\n",
    "\n",
    "plt.show()\n"
   ]
  },
  {
   "cell_type": "markdown",
   "metadata": {},
   "source": [
    "## SUMMARY AND CONCLUSIONS"
   ]
  },
  {
   "cell_type": "markdown",
   "metadata": {},
   "source": [
    "### RMSE"
   ]
  },
  {
   "cell_type": "code",
   "execution_count": 98,
   "metadata": {},
   "outputs": [
    {
     "data": {
      "image/png": "[encoded data removed]",
      "text/plain": [
       "<Figure size 720x432 with 1 Axes>"
      ]
     },
     "metadata": {
      "needs_background": "light"
     },
     "output_type": "display_data"
    }
   ],
   "source": [
    "fig=plt.figure(figsize=(10, 6))\n",
    "axes=fig.add_subplot(1, 1, 1)\n",
    "bar_width = 0.3\n",
    "idx = np.array(range(algo_score.shape[0]))\n",
    "labels = algo_score.index\n",
    "plt.bar(data=algo_score, height='Train RMSE', x=idx, color='g', width=bar_width, label='Training Data')\n",
    "plt.bar(data=algo_score, height='Test RMSE', x=idx+bar_width, color='b', width=bar_width, label='Test Data')\n",
    "plt.xticks(idx, labels, rotation=90)\n",
    "plt.xlabel('Modelling Algorithms')\n",
    "plt.ylabel('RMSE')\n",
    "plt.title('Average RMSE for different Modelling Algorithms')\n",
    "plt.legend()\n",
    "plt.show()"
   ]
  },
  {
   "cell_type": "markdown",
   "metadata": {},
   "source": [
    "From the above plot, we can see that Random Forest and Gradient Boost give us very similar and the best predictions with least RMSE. Comparing the train and test data predictions, the model seems to be be overfitted. But we are not much worried about it, as despite overfitting, we are getting good results on the test data.\n",
    "\n",
    "In order to decide between Random Forest and Gradient Boost, let us look at the time taken in fitting the model. In all the algorithms, the prediction time was very small in comparison to the fit time."
   ]
  },
  {
   "cell_type": "markdown",
   "metadata": {},
   "source": [
    "### Train/Test Time"
   ]
  },
  {
   "cell_type": "code",
   "execution_count": 97,
   "metadata": {},
   "outputs": [
    {
     "data": {
      "image/png": "[encoded data removed]",
      "text/plain": [
       "<Figure size 720x432 with 1 Axes>"
      ]
     },
     "metadata": {
      "needs_background": "light"
     },
     "output_type": "display_data"
    }
   ],
   "source": [
    "fig=plt.figure(figsize=(10, 6))\n",
    "axes=fig.add_subplot(1, 1, 1)\n",
    "bar_width = 0.6\n",
    "idx = np.array(range(algo_score.shape[0]))\n",
    "labels = algo_score.index\n",
    "plt.bar(data=algo_score, height='Training+Test Time(sec)', x=idx, width=bar_width)\n",
    "plt.xticks(idx, labels, rotation=90)\n",
    "plt.xlabel('Modelling Algorithms')\n",
    "plt.ylabel('Training+Test Time(sec)')\n",
    "plt.title('Training Time + Test Time for different Models (sec)')\n",
    "#axes.set_yscale('log')\n",
    "plt.show()"
   ]
  },
  {
   "cell_type": "markdown",
   "metadata": {},
   "source": [
    "As seen above, Gradient Boost is taking much lesser time as compared to Random Forest. So we choose Gradient Boost as our final algorithm. \n",
    "Gradient Boost gives an RMSE of 0.625 on our test data."
   ]
  },
  {
   "cell_type": "markdown",
   "metadata": {},
   "source": [
    "References:\n",
    "\n",
    "https://www.analyticsvidhya.com/blog/2018/06/comprehensive-guide-for-ensemble-models/\n",
    "\n",
    "https://towardsdatascience.com/hyperparameter-tuning-the-random-forest-in-python-using-scikit-learn-28d2aa77dd74"
   ]
  }
 ],
 "metadata": {
  "kernelspec": {
   "display_name": "Python 3 (ipykernel)",
   "language": "python",
   "name": "python3"
  },
  "language_info": {
   "codemirror_mode": {
    "name": "ipython",
    "version": 3
   },
   "file_extension": ".py",
   "mimetype": "text/x-python",
   "name": "python",
   "nbconvert_exporter": "python",
   "pygments_lexer": "ipython3",
   "version": "3.10.4"
  }
 },
 "nbformat": 4,
 "nbformat_minor": 2
}
